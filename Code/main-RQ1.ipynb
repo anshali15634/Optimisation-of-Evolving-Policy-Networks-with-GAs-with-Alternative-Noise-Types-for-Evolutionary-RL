{
 "cells": [
  {
   "cell_type": "markdown",
   "id": "993f11d9",
   "metadata": {
    "id": "993f11d9",
    "tags": []
   },
   "source": [
    "## **COMP4082 - Autonomous Robotic Systems**\n",
    "---\n",
    "\n",
    "**Student Name:** Anshali Manoharan\n",
    "\n",
    "**Student ID:** 20506330\n",
    "\n",
    "---\n",
    "\n",
    "#### Research Question 1:\n",
    "Does the choice of noise type affect the mutation process of the baseline Genetic Algorithm with Multi-Step Mutation (GA-MSM) and (GA-MSM-P), particularly non-Gaussian noise types (e.g., OU, pink)? If so, how does different types of noise influences  convergence performance in policy networks evolved using GAs, compared to the standard Gaussian noise?\n",
    "\n",
    "_Note: Since a new addition to the algorithm was found to be statistically significantly better, the experiment includes both GA-MSM and the GA-MSM-P version in this experiment._\n",
    "\n",
    "#### This notebook will carry out the necessary experimentation and analysis required to answer this research question.\n",
    "\n",
    "#### Steps:\n",
    "\n",
    "1. Perform 10 runs of the GA-MSM algorithm with default Gaussian noise mutation operator.\n",
    "2. Perform 10 runs of the GA-MSM algorithm with pink noise mutation operator.\n",
    "3. Perform 10 runs of the GA-MSM algorithm with OU noise mutation operator.\n",
    "4. For each noise type, median scores of the 10 runs are calculated across 200 generations.\n",
    "5. Pairwise Mann Whitney U significance tests performed between Gaussian & Pink, Gaussian & OU, and Pink & OU.\n",
    "6. Repeat for GA-MSM-P.\n",
    "\n",
    "#### Summary of Findings:\n",
    "\n",
    "\n",
    "\n",
    "Effect of Noise Types on GA-MSM-P & GA-MSM\n",
    "\n",
    "| Comparison      | (GA-MSM) Statistically Significant? |   (GA-MSM-P) Statistically Significant? | \n",
    "|:----------------|:--------------------------:|:--------------------------:|\n",
    "| Gaussian vs Pink|  No                        |  No                   |\n",
    "| Gaussian vs OU  |  Yes                        |  Yes                        | \n",
    "| Pink vs OU      |  Yes                        |  Yes                        |\n",
    "\n",
    "---"
   ]
  },
  {
   "cell_type": "markdown",
   "id": "a4cb8060",
   "metadata": {
    "tags": []
   },
   "source": [
    "#### Part 1: Install all necessary dependencies\n",
    "- This part installs the necessary Python libraries: `gymnasium`, `tensorflow`, `colorednoise`, `matplotlib`, `numpy`, and `uuid`.\n",
    "- The `os.environ['TF_CPP_MIN_LOG_LEVEL'] = '2'` suppresses TensorFlow logs for CPU optimization messages to reduce unnecessary output.\n",
    "\n"
   ]
  },
  {
   "cell_type": "code",
   "execution_count": 1,
   "id": "_hMIGSOVxvse",
   "metadata": {
    "colab": {
     "base_uri": "https://localhost:8080/"
    },
    "id": "_hMIGSOVxvse",
    "outputId": "978f4f4b-38af-47f8-9f73-85af75edd6f1",
    "scrolled": true
   },
   "outputs": [
    {
     "name": "stdout",
     "output_type": "stream",
     "text": [
      "Defaulting to user installation because normal site-packages is not writeable\n",
      "Requirement already satisfied: gymnasium in ./.local/lib/python3.7/site-packages (0.28.1)\n",
      "Requirement already satisfied: tensorflow in ./.local/lib/python3.7/site-packages (2.11.0)\n",
      "Requirement already satisfied: colorednoise in ./.local/lib/python3.7/site-packages (2.2.0)\n",
      "Requirement already satisfied: matplotlib in ./.local/lib/python3.7/site-packages (3.5.3)\n",
      "Requirement already satisfied: numpy in /cm/local/apps/python37/lib/python3.7/site-packages (1.21.6)\n",
      "Requirement already satisfied: uuid in ./.local/lib/python3.7/site-packages (1.30)\n",
      "Requirement already satisfied: prettytable in /cm/local/apps/python37/lib/python3.7/site-packages (0.7.2)\n",
      "Requirement already satisfied: pandas in /cm/local/apps/python37/lib/python3.7/site-packages (1.3.5)\n",
      "Requirement already satisfied: openpyxl in ./.local/lib/python3.7/site-packages (3.1.3)\n",
      "Requirement already satisfied: jax-jumpy>=1.0.0 in ./.local/lib/python3.7/site-packages (from gymnasium) (1.0.0)\n",
      "Requirement already satisfied: cloudpickle>=1.2.0 in ./.local/lib/python3.7/site-packages (from gymnasium) (2.2.1)\n",
      "Requirement already satisfied: typing-extensions>=4.3.0 in /cm/local/apps/python37/lib/python3.7/site-packages (from gymnasium) (4.5.0)\n",
      "Requirement already satisfied: farama-notifications>=0.0.1 in ./.local/lib/python3.7/site-packages (from gymnasium) (0.0.4)\n",
      "Requirement already satisfied: importlib-metadata>=4.8.0 in /cm/local/apps/python37/lib/python3.7/site-packages (from gymnasium) (6.0.0)\n",
      "Requirement already satisfied: absl-py>=1.0.0 in /cm/local/apps/python37/lib/python3.7/site-packages (from tensorflow) (1.0.0)\n",
      "Requirement already satisfied: astunparse>=1.6.0 in /cm/local/apps/python37/lib/python3.7/site-packages (from tensorflow) (1.6.3)\n",
      "Requirement already satisfied: flatbuffers>=2.0 in /cm/local/apps/python37/lib/python3.7/site-packages (from tensorflow) (2.0)\n",
      "Requirement already satisfied: gast<=0.4.0,>=0.2.1 in ./.local/lib/python3.7/site-packages (from tensorflow) (0.4.0)\n",
      "Requirement already satisfied: google-pasta>=0.1.1 in /cm/local/apps/python37/lib/python3.7/site-packages (from tensorflow) (0.2.0)\n",
      "Requirement already satisfied: grpcio<2.0,>=1.24.3 in /cm/local/apps/python37/lib/python3.7/site-packages (from tensorflow) (1.44.0)\n",
      "Requirement already satisfied: h5py>=2.9.0 in /cm/local/apps/python37/lib/python3.7/site-packages (from tensorflow) (3.6.0)\n",
      "Requirement already satisfied: keras<2.12,>=2.11.0 in ./.local/lib/python3.7/site-packages (from tensorflow) (2.11.0)\n",
      "Requirement already satisfied: libclang>=13.0.0 in /cm/local/apps/python37/lib/python3.7/site-packages (from tensorflow) (13.0.0)\n",
      "Requirement already satisfied: opt-einsum>=2.3.2 in /cm/local/apps/python37/lib/python3.7/site-packages (from tensorflow) (3.3.0)\n",
      "Requirement already satisfied: packaging in /cm/local/apps/python37/lib/python3.7/site-packages (from tensorflow) (23.0)\n",
      "Requirement already satisfied: protobuf<3.20,>=3.9.2 in ./.local/lib/python3.7/site-packages (from tensorflow) (3.19.6)\n",
      "Requirement already satisfied: setuptools in /cm/local/apps/python37/lib/python3.7/site-packages (from tensorflow) (47.1.0)\n",
      "Requirement already satisfied: six>=1.12.0 in /cm/local/apps/python37/lib/python3.7/site-packages (from tensorflow) (1.16.0)\n",
      "Requirement already satisfied: tensorboard<2.12,>=2.11 in ./.local/lib/python3.7/site-packages (from tensorflow) (2.11.2)\n",
      "Requirement already satisfied: tensorflow-estimator<2.12,>=2.11.0 in ./.local/lib/python3.7/site-packages (from tensorflow) (2.11.0)\n",
      "Requirement already satisfied: termcolor>=1.1.0 in /cm/local/apps/python37/lib/python3.7/site-packages (from tensorflow) (1.1.0)\n",
      "Requirement already satisfied: wrapt>=1.11.0 in /cm/local/apps/python37/lib/python3.7/site-packages (from tensorflow) (1.15.0)\n",
      "Requirement already satisfied: tensorflow-io-gcs-filesystem>=0.23.1 in /cm/local/apps/python37/lib/python3.7/site-packages (from tensorflow) (0.24.0)\n",
      "Requirement already satisfied: cycler>=0.10 in /cm/local/apps/python37/lib/python3.7/site-packages (from matplotlib) (0.11.0)\n",
      "Requirement already satisfied: fonttools>=4.22.0 in /cm/local/apps/python37/lib/python3.7/site-packages (from matplotlib) (4.32.0)\n",
      "Requirement already satisfied: kiwisolver>=1.0.1 in /cm/local/apps/python37/lib/python3.7/site-packages (from matplotlib) (1.4.2)\n",
      "Requirement already satisfied: pillow>=6.2.0 in /cm/local/apps/python37/lib/python3.7/site-packages (from matplotlib) (9.1.0)\n",
      "Requirement already satisfied: pyparsing>=2.2.1 in /cm/local/apps/python37/lib/python3.7/site-packages (from matplotlib) (3.0.9)\n",
      "Requirement already satisfied: python-dateutil>=2.7 in /cm/local/apps/python37/lib/python3.7/site-packages (from matplotlib) (2.8.2)\n",
      "Requirement already satisfied: pytz>=2017.3 in /cm/local/apps/python37/lib/python3.7/site-packages (from pandas) (2022.7.1)\n",
      "Requirement already satisfied: et-xmlfile in ./.local/lib/python3.7/site-packages (from openpyxl) (1.1.0)\n",
      "Requirement already satisfied: wheel<1.0,>=0.23.0 in /cm/local/apps/python37/lib/python3.7/site-packages (from astunparse>=1.6.0->tensorflow) (0.37.1)\n",
      "Requirement already satisfied: cached-property in /cm/local/apps/python37/lib/python3.7/site-packages (from h5py>=2.9.0->tensorflow) (1.5.2)\n",
      "Requirement already satisfied: zipp>=0.5 in /cm/local/apps/python37/lib/python3.7/site-packages (from importlib-metadata>=4.8.0->gymnasium) (3.15.0)\n",
      "Requirement already satisfied: google-auth<3,>=1.6.3 in ./.local/lib/python3.7/site-packages (from tensorboard<2.12,>=2.11->tensorflow) (2.36.0)\n",
      "Requirement already satisfied: google-auth-oauthlib<0.5,>=0.4.1 in /cm/local/apps/python37/lib/python3.7/site-packages (from tensorboard<2.12,>=2.11->tensorflow) (0.4.6)\n",
      "Requirement already satisfied: markdown>=2.6.8 in /cm/local/apps/python37/lib/python3.7/site-packages (from tensorboard<2.12,>=2.11->tensorflow) (3.3.6)\n",
      "Requirement already satisfied: requests<3,>=2.21.0 in /cm/local/apps/python37/lib/python3.7/site-packages (from tensorboard<2.12,>=2.11->tensorflow) (2.28.2)\n",
      "Requirement already satisfied: tensorboard-data-server<0.7.0,>=0.6.0 in /cm/local/apps/python37/lib/python3.7/site-packages (from tensorboard<2.12,>=2.11->tensorflow) (0.6.1)\n",
      "Requirement already satisfied: tensorboard-plugin-wit>=1.6.0 in /cm/local/apps/python37/lib/python3.7/site-packages (from tensorboard<2.12,>=2.11->tensorflow) (1.8.1)\n",
      "Requirement already satisfied: werkzeug>=1.0.1 in /cm/local/apps/python37/lib/python3.7/site-packages (from tensorboard<2.12,>=2.11->tensorflow) (2.1.1)\n",
      "Requirement already satisfied: cachetools<6.0,>=2.0.0 in /cm/local/apps/python37/lib/python3.7/site-packages (from google-auth<3,>=1.6.3->tensorboard<2.12,>=2.11->tensorflow) (5.3.0)\n",
      "Requirement already satisfied: pyasn1-modules>=0.2.1 in ./.local/lib/python3.7/site-packages (from google-auth<3,>=1.6.3->tensorboard<2.12,>=2.11->tensorflow) (0.3.0)\n",
      "Requirement already satisfied: rsa<5,>=3.1.4 in ./.local/lib/python3.7/site-packages (from google-auth<3,>=1.6.3->tensorboard<2.12,>=2.11->tensorflow) (4.9)\n",
      "Requirement already satisfied: requests-oauthlib>=0.7.0 in /cm/local/apps/python37/lib/python3.7/site-packages (from google-auth-oauthlib<0.5,>=0.4.1->tensorboard<2.12,>=2.11->tensorflow) (1.3.1)\n",
      "Requirement already satisfied: charset-normalizer<4,>=2 in /cm/local/apps/python37/lib/python3.7/site-packages (from requests<3,>=2.21.0->tensorboard<2.12,>=2.11->tensorflow) (3.1.0)\n",
      "Requirement already satisfied: idna<4,>=2.5 in /cm/local/apps/python37/lib/python3.7/site-packages (from requests<3,>=2.21.0->tensorboard<2.12,>=2.11->tensorflow) (3.4)\n",
      "Requirement already satisfied: urllib3<1.27,>=1.21.1 in /cm/local/apps/python37/lib/python3.7/site-packages (from requests<3,>=2.21.0->tensorboard<2.12,>=2.11->tensorflow) (1.26.15)\n",
      "Requirement already satisfied: certifi>=2017.4.17 in /cm/local/apps/python37/lib/python3.7/site-packages (from requests<3,>=2.21.0->tensorboard<2.12,>=2.11->tensorflow) (2022.12.7)\n",
      "Requirement already satisfied: pyasn1<0.6.0,>=0.4.6 in ./.local/lib/python3.7/site-packages (from pyasn1-modules>=0.2.1->google-auth<3,>=1.6.3->tensorboard<2.12,>=2.11->tensorflow) (0.5.1)\n",
      "Requirement already satisfied: oauthlib>=3.0.0 in /cm/local/apps/python37/lib/python3.7/site-packages (from requests-oauthlib>=0.7.0->google-auth-oauthlib<0.5,>=0.4.1->tensorboard<2.12,>=2.11->tensorflow) (3.2.2)\n",
      "\u001b[33mDEPRECATION: cm-create-image master has a non-standard version number. pip 24.1 will enforce this behaviour change. A possible replacement is to upgrade to a newer version of cm-create-image or contact the author to suggest that they release a version with a conforming version number. Discussion can be found at https://github.com/pypa/pip/issues/12063\u001b[0m\u001b[33m\n",
      "\u001b[0m\n",
      "\u001b[1m[\u001b[0m\u001b[34;49mnotice\u001b[0m\u001b[1;39;49m]\u001b[0m\u001b[39;49m A new release of pip is available: \u001b[0m\u001b[31;49m22.0.4\u001b[0m\u001b[39;49m -> \u001b[0m\u001b[32;49m24.0\u001b[0m\n",
      "\u001b[1m[\u001b[0m\u001b[34;49mnotice\u001b[0m\u001b[1;39;49m]\u001b[0m\u001b[39;49m To update, run: \u001b[0m\u001b[32;49mpython3 -m pip install --upgrade pip\u001b[0m\n"
     ]
    }
   ],
   "source": [
    "!pip install gymnasium tensorflow colorednoise matplotlib numpy uuid prettytable pandas openpyxl"
   ]
  },
  {
   "cell_type": "code",
   "execution_count": 2,
   "id": "17972eb0-550e-4475-97ca-795ffb95f929",
   "metadata": {
    "tags": []
   },
   "outputs": [],
   "source": [
    "import os\n",
    "\n",
    "# The code execution occurred on a CPU.\n",
    "# As a result, TensorFlow logs related to optimizations for CPU architecture\n",
    "# (e.g., AVX2, FMA) were suppressed.\n",
    "\n",
    "os.environ['TF_CPP_MIN_LOG_LEVEL'] = '2'"
   ]
  },
  {
   "cell_type": "markdown",
   "id": "3c0cd600",
   "metadata": {},
   "source": [
    "#### Part 2. All necessary imports\n",
    "- Imports standard libraries such as `numpy`, `random`, and `matplotlib` for numerical computations, random processes, and plotting.\n",
    "- Imports TensorFlow's `keras` submodules for deep learning functionalities.\n",
    "- `gymnasium` is imported to work with reinforcement learning environments.\n",
    "- Additional modules like `colorednoise`, `joblib`, `uuid`, `time` and `prettytable` are included for noise generation, parallel processing, unique ID creation for the models created during parallel processing, time-related operations and data visualisation.\n",
    "- Custom modules (`populationGenerator`, `crossOverOperator`, `fitnessOperators`, `GAMSM`, and `graphResults`) are imported for the genetic algorithm (GA-MSM) and related operations.\n"
   ]
  },
  {
   "cell_type": "code",
   "execution_count": 3,
   "id": "b25d7300-fa8d-4f00-89ce-e02102970f18",
   "metadata": {},
   "outputs": [],
   "source": [
    "import numpy as np\n",
    "import random\n",
    "from tensorflow.keras import layers, models\n",
    "import gymnasium as gym\n",
    "import matplotlib.pyplot as plt\n",
    "from joblib import Parallel, delayed\n",
    "import random\n",
    "import copy\n",
    "import colorednoise as cn\n",
    "import tensorflow as tf\n",
    "import time\n",
    "import uuid\n",
    "from prettytable import PrettyTable\n",
    "\n",
    "from population_generator import populationGenerator\n",
    "from crossover_operator import crossOverOperator\n",
    "from fitness_operators import fitnessOperators\n",
    "from graph_results import graphResults"
   ]
  },
  {
   "cell_type": "markdown",
   "id": "97f17425-4f6b-4682-ad04-de1fd223cf2c",
   "metadata": {},
   "source": [
    "#### Part 3. Setting hyperparameters\n",
    "- Defines hyperparameters used by the GA-MSM algorithm:\n",
    "  - `number_of_additional_mutations`: Specifies how many additional mutations occur per generation, based on the Core Paper A.\n",
    "  - `population_number`: Total population size for the genetic algorithm.\n",
    "  - `elite_percentage`: Top percentage of the population to be considered elite, based on Core Paper A\n",
    "  - `noise_type`: The type of noise (Gaussian, pink, or OU) applied in mutation operations.\n",
    "  - `number_of_generations`: The number of generations for the algorithm to run, with 200 chosen based on convergence trends from Core Paper A\n",
    "  - `number_of_runs`: The total number of times the algorithm should be run when a different configuration is implemented."
   ]
  },
  {
   "cell_type": "code",
   "execution_count": 4,
   "id": "hEgV5aMTSrXb",
   "metadata": {
    "colab": {
     "base_uri": "https://localhost:8080/"
    },
    "id": "hEgV5aMTSrXb",
    "outputId": "49884c56-c775-4e1b-cef0-2a3364adf58e"
   },
   "outputs": [],
   "source": [
    "number_of_additional_mutations = 10\n",
    "population_number = 100\n",
    "elite_percentage = 0.1\n",
    "number_of_generations = 200\n",
    "number_of_runs = 10"
   ]
  },
  {
   "cell_type": "markdown",
   "id": "fb75cfd0-72f0-4563-8db2-96cb3b604fc5",
   "metadata": {},
   "source": [
    "#### Part 4. Implementing GA-MSM-P (with different noise types)\n",
    "\n",
    "- This part executes the GA-MSM-P algorithm by creating an instance of the `GAMSM_P` class with the specified hyperparameters: the number of additional mutations, population size, elite percentage, noise type, and the number of generations.\n"
   ]
  },
  {
   "cell_type": "markdown",
   "id": "5c036e27-c6f9-48f3-9d3c-233b4cc20010",
   "metadata": {},
   "source": [
    "#### Part 4.1. GA-MSM-P with Gaussian\n",
    "Gaussian noise is set as the mutation operator."
   ]
  },
  {
   "cell_type": "code",
   "execution_count": 5,
   "id": "91f4b1aa",
   "metadata": {},
   "outputs": [
    {
     "name": "stdout",
     "output_type": "stream",
     "text": [
      "Run Number:  1\n",
      "Total Runtime: 0 hours and 4 minutes.\n",
      "Run Number:  2\n",
      "Total Runtime: 0 hours and 4 minutes.\n",
      "Run Number:  3\n",
      "Total Runtime: 0 hours and 4 minutes.\n",
      "Run Number:  4\n",
      "Total Runtime: 0 hours and 2 minutes.\n",
      "Run Number:  5\n",
      "Total Runtime: 0 hours and 3 minutes.\n",
      "Run Number:  6\n",
      "Total Runtime: 0 hours and 3 minutes.\n",
      "Run Number:  7\n",
      "Total Runtime: 0 hours and 5 minutes.\n",
      "Run Number:  8\n",
      "Total Runtime: 0 hours and 4 minutes.\n",
      "Run Number:  9\n",
      "Total Runtime: 0 hours and 2 minutes.\n",
      "Run Number:  10\n",
      "Total Runtime: 0 hours and 4 minutes.\n",
      "\n",
      "Overall Runtime: 0 hours and 40 minutes.\n"
     ]
    }
   ],
   "source": [
    "from GA_MSM_P_algorithm import GAMSM_P\n",
    "\n",
    "noise_type = \"gaussian\"\n",
    "\n",
    "all_run_data1 = []\n",
    "\n",
    "start_time = time.time()\n",
    "\n",
    "# 10 runs are performed\n",
    "for i in range(number_of_runs):\n",
    "\n",
    "    print(\"Run Number: \", i+1)\n",
    "    GAMSMP_with_Gaussian_noise = GAMSM_P(number_of_additional_mutations, population_number, elite_percentage, noise_type, number_of_generations, 1)\n",
    "    GAMSMP_with_Gaussian_noise.run() # results stores average of each generation - 200 average scores stored\n",
    "    all_run_data1.append(GAMSMP_with_Gaussian_noise.average_population_fitness)\n",
    "\n",
    "end_time = time.time()\n",
    "\n",
    "total_time = end_time - start_time\n",
    "hours, minutes = divmod(total_time // 60, 60)\n",
    "print(f\"\\nOverall Runtime: {int(hours)} hours and {int(minutes)} minutes.\")"
   ]
  },
  {
   "cell_type": "markdown",
   "id": "558eb9d7-2aa3-43d8-9106-6481232fc174",
   "metadata": {},
   "source": [
    "#### Saving Results (Gaussian)"
   ]
  },
  {
   "cell_type": "code",
   "execution_count": 6,
   "id": "24b6b81c-dfb2-41d5-ac08-b23bb094851c",
   "metadata": {},
   "outputs": [
    {
     "name": "stdout",
     "output_type": "stream",
     "text": [
      "Excel file 'Gaussian_FrozenLake_GAMSMP.xlsx' created successfully.\n"
     ]
    }
   ],
   "source": [
    "import pandas as pd\n",
    "\n",
    "df1 = pd.DataFrame(all_run_data1)\n",
    "\n",
    "with pd.ExcelWriter('Gaussian_FrozenLake_GAMSMP.xlsx', engine='openpyxl') as writer:\n",
    "    df1.to_excel(writer, sheet_name='Sheet1', index=False, header=False)\n",
    "\n",
    "print(\"Excel file 'Gaussian_FrozenLake_GAMSMP.xlsx' created successfully.\")"
   ]
  },
  {
   "cell_type": "markdown",
   "id": "f3905f6b-707d-4c89-a417-e16502582a4a",
   "metadata": {},
   "source": [
    "#### Part 4.2 GA-MSM-P with Pink Noise\n",
    "Pink noise is set as the mutation operator."
   ]
  },
  {
   "cell_type": "code",
   "execution_count": 12,
   "id": "44c0cf50-31ec-4ea7-a185-9cc74a1bba5d",
   "metadata": {},
   "outputs": [
    {
     "name": "stdout",
     "output_type": "stream",
     "text": [
      "Run Number:  1\n",
      "Total Runtime: 0 hours and 4 minutes.\n",
      "Run Number:  2\n",
      "Total Runtime: 0 hours and 3 minutes.\n",
      "Run Number:  3\n",
      "Total Runtime: 0 hours and 4 minutes.\n",
      "Run Number:  4\n",
      "Total Runtime: 0 hours and 4 minutes.\n",
      "Run Number:  5\n",
      "Total Runtime: 0 hours and 5 minutes.\n",
      "Run Number:  6\n",
      "Total Runtime: 0 hours and 4 minutes.\n",
      "Run Number:  7\n",
      "Total Runtime: 0 hours and 4 minutes.\n",
      "Run Number:  8\n",
      "Total Runtime: 0 hours and 3 minutes.\n",
      "Run Number:  9\n",
      "Total Runtime: 0 hours and 4 minutes.\n",
      "Run Number:  10\n",
      "Total Runtime: 0 hours and 5 minutes.\n",
      "\n",
      "Overall Runtime: 0 hours and 46 minutes.\n"
     ]
    }
   ],
   "source": [
    "from GA_MSM_P_algorithm import GAMSM_P\n",
    "\n",
    "noise_type = \"pink\"\n",
    "\n",
    "all_run_data2 = []\n",
    "\n",
    "start_time = time.time()\n",
    "\n",
    "# 10 runs are performed\n",
    "for i in range(number_of_runs):\n",
    "\n",
    "    print(\"Run Number: \", i+1)\n",
    "    GAMSMP_with_Pink_noise = GAMSM_P(number_of_additional_mutations, population_number, elite_percentage, noise_type, number_of_generations, 1)\n",
    "    GAMSMP_with_Pink_noise.run() # results stores average of each generation - 200 average scores stored\n",
    "    all_run_data2.append(GAMSMP_with_Pink_noise.average_population_fitness)\n",
    "\n",
    "end_time = time.time()\n",
    "\n",
    "total_time = end_time - start_time\n",
    "hours, minutes = divmod(total_time // 60, 60)\n",
    "print(f\"\\nOverall Runtime: {int(hours)} hours and {int(minutes)} minutes.\")"
   ]
  },
  {
   "cell_type": "markdown",
   "id": "b4d2a1a8-67d3-42e6-a935-46bb9bff8292",
   "metadata": {},
   "source": [
    "#### Saving Results (Pink)"
   ]
  },
  {
   "cell_type": "code",
   "execution_count": 13,
   "id": "438b67a1-f647-4512-8b67-b7d925aa7d54",
   "metadata": {},
   "outputs": [
    {
     "name": "stdout",
     "output_type": "stream",
     "text": [
      "Excel file 'Pink_FrozenLake_GAMSMP.xlsx' created successfully.\n"
     ]
    }
   ],
   "source": [
    "import pandas as pd\n",
    "\n",
    "df2 = pd.DataFrame(all_run_data2)\n",
    "\n",
    "with pd.ExcelWriter('Pink_FrozenLake_GAMSMP.xlsx', engine='openpyxl') as writer:\n",
    "    df2.to_excel(writer, sheet_name='Sheet1', index=False, header=False)\n",
    "\n",
    "print(\"Excel file 'Pink_FrozenLake_GAMSMP.xlsx' created successfully.\")"
   ]
  },
  {
   "cell_type": "markdown",
   "id": "30e0626b-1385-4a06-b05b-319db2ee016a",
   "metadata": {},
   "source": [
    "#### Part 4.3 GA-MSM-P with OU Noise\n",
    "OU noise is set as the mutation operator."
   ]
  },
  {
   "cell_type": "code",
   "execution_count": 5,
   "id": "70d63ae4-d98e-48e2-9429-655c7c06be91",
   "metadata": {},
   "outputs": [
    {
     "name": "stdout",
     "output_type": "stream",
     "text": [
      "Run Number:  1\n",
      "Total Runtime: 0 hours and 11 minutes.\n",
      "Run Number:  2\n",
      "Total Runtime: 0 hours and 11 minutes.\n",
      "Run Number:  3\n",
      "Total Runtime: 0 hours and 12 minutes.\n",
      "Run Number:  4\n",
      "Total Runtime: 0 hours and 10 minutes.\n",
      "Run Number:  5\n",
      "Total Runtime: 0 hours and 11 minutes.\n",
      "Run Number:  6\n",
      "Total Runtime: 0 hours and 11 minutes.\n",
      "Run Number:  7\n",
      "Total Runtime: 0 hours and 10 minutes.\n",
      "Run Number:  8\n",
      "Total Runtime: 0 hours and 11 minutes.\n",
      "Run Number:  9\n",
      "Total Runtime: 0 hours and 11 minutes.\n",
      "Run Number:  10\n",
      "Total Runtime: 0 hours and 11 minutes.\n",
      "\n",
      "Overall Runtime: 1 hours and 54 minutes.\n"
     ]
    }
   ],
   "source": [
    "from GA_MSM_P_algorithm import GAMSM_P\n",
    "\n",
    "noise_type = \"ou\"\n",
    "\n",
    "all_run_data3 = []\n",
    "\n",
    "start_time = time.time()\n",
    "\n",
    "# 10 runs are performed\n",
    "for i in range(number_of_runs):\n",
    "\n",
    "    print(\"Run Number: \", i+1)\n",
    "    GAMSMP_with_OU_noise = GAMSM_P(number_of_additional_mutations, population_number, elite_percentage, noise_type, number_of_generations, 1)\n",
    "    GAMSMP_with_OU_noise.run() # results stores average of each generation - 200 average scores stored\n",
    "    all_run_data3.append(GAMSMP_with_OU_noise.average_population_fitness)\n",
    "\n",
    "end_time = time.time()\n",
    "\n",
    "total_time = end_time - start_time\n",
    "hours, minutes = divmod(total_time // 60, 60)\n",
    "print(f\"\\nOverall Runtime: {int(hours)} hours and {int(minutes)} minutes.\")"
   ]
  },
  {
   "cell_type": "markdown",
   "id": "d9961901-34ef-4f9e-b9fe-9f9950199508",
   "metadata": {},
   "source": [
    "#### Saving Results (OU)"
   ]
  },
  {
   "cell_type": "code",
   "execution_count": 6,
   "id": "752f11ef-87e7-4609-adc4-cf350a83ae7b",
   "metadata": {},
   "outputs": [
    {
     "name": "stdout",
     "output_type": "stream",
     "text": [
      "Excel file 'OU_FrozenLake_GAMSMP.xlsx' created successfully.\n"
     ]
    }
   ],
   "source": [
    "import pandas as pd\n",
    "\n",
    "df3 = pd.DataFrame(all_run_data3)\n",
    "\n",
    "with pd.ExcelWriter('OU_FrozenLake_GAMSMP.xlsx', engine='openpyxl') as writer:\n",
    "    df3.to_excel(writer, sheet_name='Sheet1', index=False, header=False)\n",
    "\n",
    "print(\"Excel file 'OU_FrozenLake_GAMSMP.xlsx' created successfully.\")\n"
   ]
  },
  {
   "cell_type": "markdown",
   "id": "c9450afe-b91a-47db-a4b6-c0a9f62936bc",
   "metadata": {},
   "source": [
    "#### Part 5. Calculating Results\n",
    "\n",
    "- the medians of each generation across the 10 runs is calculated.\n",
    "- these median scores will be used for calculating statistical significance later."
   ]
  },
  {
   "cell_type": "code",
   "execution_count": 7,
   "id": "7e586deb-cb95-41c9-9bc3-f3bb17cd6232",
   "metadata": {},
   "outputs": [],
   "source": [
    "# calculating medians\n",
    "\n",
    "import pandas as pd\n",
    "\n",
    "df1 = pd.read_excel(\"Gaussian_FrozenLake_GAMSMP.xlsx\", sheet_name='Sheet1', header=None)\n",
    "df2 = pd.read_excel(\"Pink_FrozenLake_GAMSMP.xlsx\", sheet_name='Sheet1', header=None)\n",
    "df3 = pd.read_excel(\"OU_FrozenLake_GAMSMP.xlsx\", sheet_name='Sheet1', header=None)\n",
    "\n",
    "all_run_data1 = df1.values.tolist()\n",
    "all_run_data2 = df2.values.tolist()\n",
    "all_run_data3 = df3.values.tolist()\n",
    "\n",
    "median_array = []\n",
    "final_data1 = []\n",
    "final_data2 = []\n",
    "final_data3 = []\n",
    "\n",
    "# Gaussian\n",
    "for gen in range(number_of_generations):\n",
    "    for run_number in range(number_of_runs):\n",
    "         median_array.append(all_run_data1[run_number][gen])\n",
    "    final_data1.append(np.median(median_array))\n",
    "    median_array = []\n",
    "\n",
    "median_array = []\n",
    "\n",
    "# Pink\n",
    "for gen in range(number_of_generations):\n",
    "    for run_number in range(number_of_runs):\n",
    "         median_array.append(all_run_data2[run_number][gen])\n",
    "    final_data2.append(np.median(median_array))\n",
    "    median_array = []\n",
    "\n",
    "median_array = []\n",
    "\n",
    "# OU\n",
    "for gen in range(number_of_generations):\n",
    "    for run_number in range(number_of_runs):\n",
    "         median_array.append(all_run_data3[run_number][gen])\n",
    "    final_data3.append(np.median(median_array))\n",
    "    median_array = []"
   ]
  },
  {
   "cell_type": "markdown",
   "id": "4042cede-2ee0-494d-9be8-295f40d92ebe",
   "metadata": {},
   "source": [
    "#### Part 6: Displaying Results\n",
    "\n",
    "- Used `prettytable` to format and display the results in a readable table.\n",
    "- Used `matplotlib` to plot a graph for visual representation of the results.\n"
   ]
  },
  {
   "cell_type": "code",
   "execution_count": 8,
   "id": "ee185788-b5e7-4d3d-bfc5-1f7626e2f9e2",
   "metadata": {},
   "outputs": [
    {
     "name": "stdout",
     "output_type": "stream",
     "text": [
      "Median Scores For Each Generation Across 10 Runs with Different Noise Types\n",
      "+-------------------+--------------------------+----------------------+--------------------+\n",
      "| Generation Number | Median Scores - Gaussian | Median Scores - Pink | Median Scores - OU |\n",
      "+-------------------+--------------------------+----------------------+--------------------+\n",
      "|         1         |           0.0            |         0.0          |        0.0         |\n",
      "|         2         |           0.0            |         0.0          |        0.0         |\n",
      "|         3         |           0.0            |         0.0          |        0.0         |\n",
      "|         4         |           0.0            |         0.0          |        0.0         |\n",
      "|         5         |           0.0            |         0.0          |        0.0         |\n",
      "|         6         |           0.01           |         0.0          |        0.0         |\n",
      "|         7         |           0.01           |         0.0          |        0.0         |\n",
      "|         8         |           0.01           |         0.01         |        0.01        |\n",
      "|         9         |           0.01           |         0.01         |        0.01        |\n",
      "|         10        |           0.02           |         0.01         |        0.01        |\n",
      "|         11        |           0.02           |         0.01         |        0.01        |\n",
      "|         12        |           0.02           |         0.02         |        0.01        |\n",
      "|         13        |           0.02           |         0.02         |        0.01        |\n",
      "|         14        |           0.03           |         0.02         |        0.01        |\n",
      "|         15        |           0.03           |         0.03         |        0.01        |\n",
      "|         16        |           0.03           |         0.03         |        0.02        |\n",
      "|         17        |           0.04           |         0.03         |        0.02        |\n",
      "|         18        |           0.04           |         0.03         |        0.02        |\n",
      "|         19        |           0.05           |         0.04         |        0.02        |\n",
      "|         20        |           0.06           |         0.04         |        0.02        |\n",
      "|         21        |           0.06           |         0.05         |        0.02        |\n",
      "|         22        |           0.08           |         0.06         |        0.02        |\n",
      "|         23        |           0.12           |         0.06         |        0.02        |\n",
      "|         24        |           0.13           |         0.08         |        0.02        |\n",
      "|         25        |           0.21           |         0.1          |        0.02        |\n",
      "|         26        |           0.22           |         0.14         |        0.03        |\n",
      "|         27        |           0.27           |         0.15         |        0.03        |\n",
      "|         28        |           0.29           |         0.16         |        0.04        |\n",
      "|         29        |           0.33           |         0.15         |        0.04        |\n",
      "|         30        |           0.34           |         0.15         |        0.04        |\n",
      "|         31        |           0.34           |         0.22         |        0.06        |\n",
      "|         32        |           0.37           |         0.25         |        0.08        |\n",
      "|         33        |           0.48           |         0.28         |        0.08        |\n",
      "|         34        |           0.52           |         0.3          |        0.06        |\n",
      "|         35        |           0.53           |         0.33         |        0.08        |\n",
      "|         36        |           0.63           |         0.36         |        0.14        |\n",
      "|         37        |           0.66           |         0.36         |        0.11        |\n",
      "|         38        |           0.73           |         0.43         |        0.13        |\n",
      "|         39        |           0.68           |         0.42         |        0.18        |\n",
      "|         40        |           0.7            |         0.44         |        0.18        |\n",
      "|         41        |           0.76           |         0.5          |        0.2         |\n",
      "|         42        |           0.74           |         0.54         |        0.15        |\n",
      "|         43        |           0.79           |         0.56         |        0.17        |\n",
      "|         44        |           0.83           |         0.62         |        0.26        |\n",
      "|         45        |           0.76           |         0.62         |        0.25        |\n",
      "|         46        |           0.86           |         0.63         |        0.34        |\n",
      "|         47        |           0.8            |         0.63         |        0.34        |\n",
      "|         48        |           0.8            |         0.68         |        0.36        |\n",
      "|         49        |           0.8            |         0.7          |        0.36        |\n",
      "|         50        |           0.82           |         0.66         |        0.42        |\n",
      "|         51        |           0.86           |         0.76         |        0.46        |\n",
      "|         52        |           0.86           |         0.73         |        0.47        |\n",
      "|         53        |           0.9            |         0.8          |        0.56        |\n",
      "|         54        |           0.9            |         0.8          |        0.53        |\n",
      "|         55        |           0.88           |         0.75         |        0.5         |\n",
      "|         56        |           0.92           |         0.76         |        0.5         |\n",
      "|         57        |           0.92           |         0.82         |        0.53        |\n",
      "|         58        |           0.9            |         0.82         |        0.55        |\n",
      "|         59        |           0.92           |         0.84         |        0.63        |\n",
      "|         60        |           0.91           |         0.86         |        0.59        |\n",
      "|         61        |           0.92           |         0.88         |        0.62        |\n",
      "|         62        |           0.93           |         0.86         |        0.62        |\n",
      "|         63        |           0.93           |         0.83         |        0.64        |\n",
      "|         64        |           0.92           |         0.91         |        0.63        |\n",
      "|         65        |           0.88           |         0.88         |        0.66        |\n",
      "|         66        |           0.92           |         0.84         |        0.76        |\n",
      "|         67        |           0.88           |         0.87         |        0.74        |\n",
      "|         68        |           0.92           |         0.85         |        0.76        |\n",
      "|         69        |           0.95           |         0.92         |        0.76        |\n",
      "|         70        |           0.9            |         0.92         |        0.76        |\n",
      "|         71        |           0.93           |         0.92         |        0.76        |\n",
      "|         72        |           0.92           |         0.93         |        0.82        |\n",
      "|         73        |           0.88           |         0.94         |        0.76        |\n",
      "|         74        |           0.93           |         0.96         |        0.79        |\n",
      "|         75        |           0.92           |         0.95         |        0.76        |\n",
      "|         76        |           0.9            |         0.92         |        0.81        |\n",
      "|         77        |           0.94           |         0.94         |        0.78        |\n",
      "|         78        |           0.92           |         0.94         |        0.76        |\n",
      "|         79        |           0.92           |         0.91         |        0.78        |\n",
      "|         80        |           0.95           |         0.91         |        0.78        |\n",
      "|         81        |           0.94           |         0.95         |        0.84        |\n",
      "|         82        |           0.96           |         0.95         |        0.87        |\n",
      "|         83        |           0.95           |         0.96         |        0.84        |\n",
      "|         84        |           0.94           |         0.95         |        0.82        |\n",
      "|         85        |           0.96           |         0.96         |        0.85        |\n",
      "|         86        |           0.94           |         0.95         |        0.84        |\n",
      "|         87        |           0.95           |         0.98         |        0.86        |\n",
      "|         88        |           0.94           |         0.97         |        0.88        |\n",
      "|         89        |           0.92           |         0.98         |        0.86        |\n",
      "|         90        |           0.97           |         0.98         |        0.86        |\n",
      "|         91        |           0.94           |         0.99         |        0.86        |\n",
      "|         92        |           0.98           |         0.99         |        0.89        |\n",
      "|         93        |           0.98           |         0.98         |        0.84        |\n",
      "|         94        |           0.96           |         0.96         |        0.84        |\n",
      "|         95        |           0.99           |         0.98         |        0.84        |\n",
      "|         96        |           0.99           |         0.98         |        0.89        |\n",
      "|         97        |           0.98           |         0.98         |        0.86        |\n",
      "|         98        |           0.98           |         0.99         |        0.9         |\n",
      "|         99        |           0.98           |         0.99         |        0.9         |\n",
      "|        100        |           0.98           |         0.96         |        0.9         |\n",
      "|        101        |           0.99           |         0.98         |        0.9         |\n",
      "|        102        |           1.0            |         0.99         |        0.91        |\n",
      "|        103        |           0.98           |         0.98         |        0.9         |\n",
      "|        104        |           0.99           |         0.98         |        0.96        |\n",
      "|        105        |           0.99           |         0.99         |        0.96        |\n",
      "|        106        |           1.0            |         0.98         |        0.96        |\n",
      "|        107        |           1.0            |         0.99         |        0.96        |\n",
      "|        108        |           1.0            |         0.98         |        0.92        |\n",
      "|        109        |           1.0            |         0.98         |        0.96        |\n",
      "|        110        |           1.0            |         1.0          |        0.96        |\n",
      "|        111        |           1.0            |         1.0          |        0.94        |\n",
      "|        112        |           1.0            |         1.0          |        0.94        |\n",
      "|        113        |           1.0            |         0.99         |        0.95        |\n",
      "|        114        |           1.0            |         1.0          |        0.9         |\n",
      "|        115        |           1.0            |         1.0          |        0.92        |\n",
      "|        116        |           1.0            |         1.0          |        0.96        |\n",
      "|        117        |           1.0            |         1.0          |        0.96        |\n",
      "|        118        |           1.0            |         0.98         |        0.96        |\n",
      "|        119        |           1.0            |         1.0          |        0.96        |\n",
      "|        120        |           1.0            |         1.0          |        0.95        |\n",
      "|        121        |           1.0            |         0.99         |        0.96        |\n",
      "|        122        |           1.0            |         1.0          |        0.98        |\n",
      "|        123        |           1.0            |         0.98         |        0.97        |\n",
      "|        124        |           1.0            |         0.98         |        0.98        |\n",
      "|        125        |           1.0            |         0.98         |        0.98        |\n",
      "|        126        |           1.0            |         0.99         |        0.96        |\n",
      "|        127        |           1.0            |         0.96         |        0.98        |\n",
      "|        128        |           1.0            |         0.96         |        0.98        |\n",
      "|        129        |           1.0            |         0.97         |        0.98        |\n",
      "|        130        |           1.0            |         0.99         |        0.98        |\n",
      "|        131        |           1.0            |         1.0          |        0.98        |\n",
      "|        132        |           1.0            |         0.98         |        0.98        |\n",
      "|        133        |           1.0            |         0.99         |        0.96        |\n",
      "|        134        |           1.0            |         1.0          |        0.96        |\n",
      "|        135        |           1.0            |         1.0          |        0.96        |\n",
      "|        136        |           1.0            |         0.99         |        0.95        |\n",
      "|        137        |           1.0            |         1.0          |        0.96        |\n",
      "|        138        |           1.0            |         1.0          |        0.96        |\n",
      "|        139        |           1.0            |         1.0          |        0.95        |\n",
      "|        140        |           1.0            |         1.0          |        0.94        |\n",
      "|        141        |           1.0            |         0.99         |        0.94        |\n",
      "|        142        |           1.0            |         1.0          |        0.94        |\n",
      "|        143        |           1.0            |         1.0          |        0.94        |\n",
      "|        144        |           1.0            |         1.0          |        0.94        |\n",
      "|        145        |           1.0            |         1.0          |        0.95        |\n",
      "|        146        |           1.0            |         1.0          |        0.96        |\n",
      "|        147        |           1.0            |         1.0          |        0.98        |\n",
      "|        148        |           1.0            |         1.0          |        0.96        |\n",
      "|        149        |           1.0            |         1.0          |        0.97        |\n",
      "|        150        |           1.0            |         1.0          |        0.96        |\n",
      "|        151        |           1.0            |         1.0          |        0.96        |\n",
      "|        152        |           1.0            |         1.0          |        0.95        |\n",
      "|        153        |           1.0            |         1.0          |        0.95        |\n",
      "|        154        |           0.99           |         1.0          |        0.93        |\n",
      "|        155        |           1.0            |         1.0          |        0.94        |\n",
      "|        156        |           1.0            |         1.0          |        0.96        |\n",
      "|        157        |           1.0            |         1.0          |        0.96        |\n",
      "|        158        |           1.0            |         1.0          |        0.96        |\n",
      "|        159        |           1.0            |         1.0          |        0.95        |\n",
      "|        160        |           1.0            |         1.0          |        0.94        |\n",
      "|        161        |           1.0            |         1.0          |        0.96        |\n",
      "|        162        |           1.0            |         1.0          |        0.96        |\n",
      "|        163        |           1.0            |         1.0          |        0.97        |\n",
      "|        164        |           1.0            |         1.0          |        0.98        |\n",
      "|        165        |           1.0            |         1.0          |        0.98        |\n",
      "|        166        |           1.0            |         1.0          |        0.98        |\n",
      "|        167        |           1.0            |         1.0          |        1.0         |\n",
      "|        168        |           1.0            |         1.0          |        0.99        |\n",
      "|        169        |           1.0            |         1.0          |        0.98        |\n",
      "|        170        |           1.0            |         1.0          |        0.98        |\n",
      "|        171        |           1.0            |         1.0          |        0.96        |\n",
      "|        172        |           1.0            |         1.0          |        0.97        |\n",
      "|        173        |           1.0            |         1.0          |        0.96        |\n",
      "|        174        |           1.0            |         1.0          |        0.98        |\n",
      "|        175        |           1.0            |         1.0          |        0.98        |\n",
      "|        176        |           1.0            |         1.0          |        1.0         |\n",
      "|        177        |           1.0            |         1.0          |        1.0         |\n",
      "|        178        |           1.0            |         1.0          |        1.0         |\n",
      "|        179        |           1.0            |         1.0          |        1.0         |\n",
      "|        180        |           1.0            |         1.0          |        0.98        |\n",
      "|        181        |           1.0            |         1.0          |        0.98        |\n",
      "|        182        |           1.0            |         1.0          |        1.0         |\n",
      "|        183        |           1.0            |         1.0          |        1.0         |\n",
      "|        184        |           1.0            |         1.0          |        0.99        |\n",
      "|        185        |           1.0            |         1.0          |        0.98        |\n",
      "|        186        |           1.0            |         1.0          |        0.98        |\n",
      "|        187        |           1.0            |         1.0          |        0.99        |\n",
      "|        188        |           1.0            |         1.0          |        0.99        |\n",
      "|        189        |           1.0            |         1.0          |        0.99        |\n",
      "|        190        |           1.0            |         1.0          |        0.99        |\n",
      "|        191        |           1.0            |         1.0          |        0.99        |\n",
      "|        192        |           1.0            |         1.0          |        1.0         |\n",
      "|        193        |           1.0            |         1.0          |        1.0         |\n",
      "|        194        |           1.0            |         1.0          |        0.98        |\n",
      "|        195        |           1.0            |         1.0          |        0.98        |\n",
      "|        196        |           1.0            |         1.0          |        1.0         |\n",
      "|        197        |           1.0            |         1.0          |        1.0         |\n",
      "|        198        |           1.0            |         1.0          |        1.0         |\n",
      "|        199        |           1.0            |         1.0          |        1.0         |\n",
      "|        200        |           1.0            |         1.0          |        1.0         |\n",
      "+-------------------+--------------------------+----------------------+--------------------+\n"
     ]
    }
   ],
   "source": [
    "from prettytable import PrettyTable\n",
    "\n",
    "table = PrettyTable()\n",
    "\n",
    "print(\"Median Scores For Each Generation Across 10 Runs with Different Noise Types\")\n",
    "\n",
    "table.field_names = [\"Generation Number\", \"Median Scores - Gaussian\", \"Median Scores - Pink\", \"Median Scores - OU\"]\n",
    "\n",
    "for i in range(200):\n",
    "    table.add_row([i + 1, round(final_data1[i],2), round(final_data2[i],2), round(final_data3[i],2) ])\n",
    "\n",
    "print(table)\n",
    "\n"
   ]
  },
  {
   "cell_type": "code",
   "execution_count": 9,
   "id": "a42de1ea-2cb9-482d-9156-52b0f75343f2",
   "metadata": {},
   "outputs": [
    {
     "data": {
      "image/png": "[encoded data removed]",
      "text/plain": [
       "<Figure size 1080x720 with 1 Axes>"
      ]
     },
     "metadata": {
      "needs_background": "light"
     },
     "output_type": "display_data"
    }
   ],
   "source": [
    "graphResults.display_triple_results(number_of_generations, \"Generations\", \"Median Average Population Fitness\", \"Median Average Population Fitness across Generations with different Noise Types (10 Runs)\",final_data1, final_data2, final_data3)"
   ]
  },
  {
   "cell_type": "markdown",
   "id": "2ada908f-315b-4241-a4d2-d21c9b9fd964",
   "metadata": {},
   "source": [
    "#### Part 7: Pairwise Mann Whitney U Tests\n",
    "\n",
    "- checking if the results of using mutation operators Gaussian, OU and pink are significantly different.\n"
   ]
  },
  {
   "cell_type": "code",
   "execution_count": 11,
   "id": "bb0e831b-fc7d-425b-830c-9372772203bd",
   "metadata": {
    "scrolled": true
   },
   "outputs": [
    {
     "name": "stdout",
     "output_type": "stream",
     "text": [
      "Comparison: gaussian vs pink\n",
      "P-Value: 0.10852916956224021\n",
      "Result: No statistically significant difference.\n",
      "\n",
      "Comparison: gaussian vs ou\n",
      "P-Value: 4.571993179122224e-11\n",
      "Result: Statistically significant difference.\n",
      "\n",
      "Comparison: pink vs ou\n",
      "P-Value: 1.2793028969399484e-08\n",
      "Result: Statistically significant difference.\n",
      "\n"
     ]
    }
   ],
   "source": [
    "import numpy as np\n",
    "from scipy.stats import mannwhitneyu\n",
    "\n",
    "# Sample data (performance of algorithms across 10 runs)\n",
    "gaussian = final_data1\n",
    "pink = final_data2\n",
    "ou = final_data3\n",
    "\n",
    "# Pairwise Mann-Whitney U tests\n",
    "pairs = [('gaussian', 'pink'), ('gaussian', 'ou'), ('pink', 'ou')]\n",
    "\n",
    "# Significance level\n",
    "alpha = 0.01\n",
    "\n",
    "# Perform U tests for each pair and print results\n",
    "for alg1, alg2 in pairs:\n",
    "    data1 = locals()[alg1]\n",
    "    data2 = locals()[alg2]\n",
    "    stat, p_value = mannwhitneyu(data1, data2, alternative='two-sided')\n",
    "    \n",
    "    print(f\"Comparison: {alg1} vs {alg2}\")\n",
    "    print(f\"P-Value: {p_value}\")\n",
    "    \n",
    "    # Check for statistical significance\n",
    "    if p_value < alpha:\n",
    "        print(\"Result: Statistically significant difference.\\n\")\n",
    "    else:\n",
    "        print(\"Result: No statistically significant difference.\\n\")\n"
   ]
  },
  {
   "cell_type": "markdown",
   "id": "f377263b-ab35-4038-ba2d-95cafa504db5",
   "metadata": {},
   "source": [
    "#### Part 8: Implementing GA-MSM (with different noise types)\n",
    "\n",
    "- GA-MSM was tested under the same conditions.\n",
    "\n",
    "#### Part 8.1 GA-MSM with Gaussian Noise"
   ]
  },
  {
   "cell_type": "code",
   "execution_count": 12,
   "id": "7b10a96e-df9e-4853-b8b2-e7b1d4c63418",
   "metadata": {},
   "outputs": [
    {
     "name": "stdout",
     "output_type": "stream",
     "text": [
      "Run Number:  1\n",
      "Total Runtime: 0 hours and 4 minutes.\n",
      "Run Number:  2\n",
      "Total Runtime: 0 hours and 3 minutes.\n",
      "Run Number:  3\n",
      "Total Runtime: 0 hours and 4 minutes.\n",
      "Run Number:  4\n",
      "Total Runtime: 0 hours and 4 minutes.\n",
      "Run Number:  5\n",
      "Total Runtime: 0 hours and 4 minutes.\n",
      "Run Number:  6\n",
      "Total Runtime: 0 hours and 4 minutes.\n",
      "Run Number:  7\n",
      "Total Runtime: 0 hours and 4 minutes.\n",
      "Run Number:  8\n",
      "Total Runtime: 0 hours and 4 minutes.\n",
      "Run Number:  9\n",
      "Total Runtime: 0 hours and 5 minutes.\n",
      "Run Number:  10\n",
      "Total Runtime: 0 hours and 4 minutes.\n",
      "\n",
      "Overall Runtime: 0 hours and 44 minutes.\n"
     ]
    }
   ],
   "source": [
    "from GA_MSM_algorithm import GAMSM\n",
    "\n",
    "noise_type = \"gaussian\"\n",
    "\n",
    "all_run_data1 = []\n",
    "\n",
    "start_time = time.time()\n",
    "\n",
    "# 10 runs are performed\n",
    "for i in range(number_of_runs):\n",
    "\n",
    "    print(\"Run Number: \", i+1)\n",
    "    GAMSM_with_Gaussian_noise = GAMSM(number_of_additional_mutations, population_number, elite_percentage, noise_type, number_of_generations, 1)\n",
    "    GAMSM_with_Gaussian_noise.run() # results stores average of each generation - 200 average scores stored\n",
    "    all_run_data1.append(GAMSM_with_Gaussian_noise.average_population_fitness)\n",
    "\n",
    "end_time = time.time()\n",
    "\n",
    "total_time = end_time - start_time\n",
    "hours, minutes = divmod(total_time // 60, 60)\n",
    "print(f\"\\nOverall Runtime: {int(hours)} hours and {int(minutes)} minutes.\")"
   ]
  },
  {
   "cell_type": "markdown",
   "id": "a76bd7a2-df39-4204-b477-5adc3f8c5052",
   "metadata": {},
   "source": [
    "#### Saving Results (Gaussian)"
   ]
  },
  {
   "cell_type": "code",
   "execution_count": 13,
   "id": "224f3346-924f-4c44-8f7e-708812c238e5",
   "metadata": {},
   "outputs": [
    {
     "name": "stdout",
     "output_type": "stream",
     "text": [
      "Excel file 'Gaussian_FrozenLake_GAMSM.xlsx' created successfully.\n"
     ]
    }
   ],
   "source": [
    "import pandas as pd\n",
    "\n",
    "df1 = pd.DataFrame(all_run_data1)\n",
    "\n",
    "with pd.ExcelWriter('Gaussian_FrozenLake_GAMSM.xlsx', engine='openpyxl') as writer:\n",
    "    df1.to_excel(writer, sheet_name='Sheet1', index=False, header=False)\n",
    "\n",
    "print(\"Excel file 'Gaussian_FrozenLake_GAMSM.xlsx' created successfully.\")"
   ]
  },
  {
   "cell_type": "markdown",
   "id": "34336c0f-d631-4c99-ba53-d4c3e2801484",
   "metadata": {},
   "source": [
    "#### Part 8.2 GA-MSM with Pink Noise"
   ]
  },
  {
   "cell_type": "code",
   "execution_count": 14,
   "id": "c54db48e-033b-48dc-8123-13c08ab8ca2f",
   "metadata": {},
   "outputs": [
    {
     "name": "stdout",
     "output_type": "stream",
     "text": [
      "Run Number:  1\n",
      "Total Runtime: 0 hours and 4 minutes.\n",
      "Run Number:  2\n",
      "Total Runtime: 0 hours and 4 minutes.\n",
      "Run Number:  3\n",
      "Total Runtime: 0 hours and 5 minutes.\n",
      "Run Number:  4\n",
      "Total Runtime: 0 hours and 3 minutes.\n",
      "Run Number:  5\n",
      "Total Runtime: 0 hours and 4 minutes.\n",
      "Run Number:  6\n",
      "Total Runtime: 0 hours and 4 minutes.\n",
      "Run Number:  7\n",
      "Total Runtime: 0 hours and 4 minutes.\n",
      "Run Number:  8\n",
      "Total Runtime: 0 hours and 3 minutes.\n",
      "Run Number:  9\n",
      "Total Runtime: 0 hours and 3 minutes.\n",
      "Run Number:  10\n",
      "Total Runtime: 0 hours and 4 minutes.\n",
      "\n",
      "Overall Runtime: 0 hours and 43 minutes.\n"
     ]
    }
   ],
   "source": [
    "from GA_MSM_algorithm import GAMSM\n",
    "\n",
    "noise_type = \"pink\"\n",
    "\n",
    "all_run_data2 = []\n",
    "\n",
    "start_time = time.time()\n",
    "\n",
    "# 10 runs are performed\n",
    "for i in range(number_of_runs):\n",
    "\n",
    "    print(\"Run Number: \", i+1)\n",
    "    GAMSM_with_Pink_noise = GAMSM(number_of_additional_mutations, population_number, elite_percentage, noise_type, number_of_generations, 1)\n",
    "    GAMSM_with_Pink_noise.run() # results stores average of each generation - 200 average scores stored\n",
    "    all_run_data2.append(GAMSM_with_Pink_noise.average_population_fitness)\n",
    "\n",
    "end_time = time.time()\n",
    "\n",
    "total_time = end_time - start_time\n",
    "hours, minutes = divmod(total_time // 60, 60)\n",
    "print(f\"\\nOverall Runtime: {int(hours)} hours and {int(minutes)} minutes.\")"
   ]
  },
  {
   "cell_type": "markdown",
   "id": "31c5f141-6a2a-42b0-95f5-c9058962186e",
   "metadata": {},
   "source": [
    "#### Saving Results (Pink)"
   ]
  },
  {
   "cell_type": "code",
   "execution_count": 15,
   "id": "591fbcbd-3106-4a30-84b9-86a1d9b0f1a0",
   "metadata": {},
   "outputs": [
    {
     "name": "stdout",
     "output_type": "stream",
     "text": [
      "Excel file 'Pink_FrozenLake_GAMSM.xlsx' created successfully.\n"
     ]
    }
   ],
   "source": [
    "import pandas as pd\n",
    "\n",
    "df2 = pd.DataFrame(all_run_data2)\n",
    "\n",
    "with pd.ExcelWriter('Pink_FrozenLake_GAMSM.xlsx', engine='openpyxl') as writer:\n",
    "    df2.to_excel(writer, sheet_name='Sheet1', index=False, header=False)\n",
    "\n",
    "print(\"Excel file 'Pink_FrozenLake_GAMSM.xlsx' created successfully.\")"
   ]
  },
  {
   "cell_type": "markdown",
   "id": "fe0dfa15-9626-49dc-9036-a3b04099bb85",
   "metadata": {},
   "source": [
    "#### Part 8.3 GA-MSM with OU Noise"
   ]
  },
  {
   "cell_type": "code",
   "execution_count": 16,
   "id": "7180cd30-31ec-4d26-b8fe-5a984f0ba93a",
   "metadata": {},
   "outputs": [
    {
     "name": "stdout",
     "output_type": "stream",
     "text": [
      "Run Number:  1\n",
      "Total Runtime: 0 hours and 10 minutes.\n",
      "Run Number:  2\n",
      "Total Runtime: 0 hours and 11 minutes.\n",
      "Run Number:  3\n",
      "Total Runtime: 0 hours and 10 minutes.\n",
      "Run Number:  4\n",
      "Total Runtime: 0 hours and 11 minutes.\n",
      "Run Number:  5\n",
      "Total Runtime: 0 hours and 10 minutes.\n",
      "Run Number:  6\n",
      "Total Runtime: 0 hours and 10 minutes.\n",
      "Run Number:  7\n",
      "Total Runtime: 0 hours and 10 minutes.\n",
      "Run Number:  8\n",
      "Total Runtime: 0 hours and 11 minutes.\n",
      "Run Number:  9\n",
      "Total Runtime: 0 hours and 11 minutes.\n",
      "Run Number:  10\n",
      "Total Runtime: 0 hours and 10 minutes.\n",
      "\n",
      "Overall Runtime: 1 hours and 50 minutes.\n"
     ]
    }
   ],
   "source": [
    "from GA_MSM_algorithm import GAMSM\n",
    "\n",
    "noise_type = \"ou\"\n",
    "\n",
    "all_run_data3 = []\n",
    "\n",
    "start_time = time.time()\n",
    "\n",
    "# 10 runs are performed\n",
    "for i in range(number_of_runs):\n",
    "\n",
    "    print(\"Run Number: \", i+1)\n",
    "    GAMSM_with_OU_noise = GAMSM(number_of_additional_mutations, population_number, elite_percentage, noise_type, number_of_generations, 1)\n",
    "    GAMSM_with_OU_noise.run() # results stores average of each generation - 200 average scores stored\n",
    "    all_run_data3.append(GAMSM_with_OU_noise.average_population_fitness)\n",
    "\n",
    "end_time = time.time()\n",
    "\n",
    "total_time = end_time - start_time\n",
    "hours, minutes = divmod(total_time // 60, 60)\n",
    "print(f\"\\nOverall Runtime: {int(hours)} hours and {int(minutes)} minutes.\")"
   ]
  },
  {
   "cell_type": "markdown",
   "id": "7adcd645-d877-424e-80c7-cea58de9b76b",
   "metadata": {},
   "source": [
    "#### Saving Results (OU)"
   ]
  },
  {
   "cell_type": "code",
   "execution_count": 17,
   "id": "45b33239-285e-4474-bc67-38e60fa3990e",
   "metadata": {},
   "outputs": [
    {
     "name": "stdout",
     "output_type": "stream",
     "text": [
      "Excel file 'OU_FrozenLake_GAMSM.xlsx' created successfully.\n"
     ]
    }
   ],
   "source": [
    "import pandas as pd\n",
    "\n",
    "df3 = pd.DataFrame(all_run_data3)\n",
    "\n",
    "with pd.ExcelWriter('OU_FrozenLake_GAMSM.xlsx', engine='openpyxl') as writer:\n",
    "    df3.to_excel(writer, sheet_name='Sheet1', index=False, header=False)\n",
    "\n",
    "print(\"Excel file 'OU_FrozenLake_GAMSM.xlsx' created successfully.\")"
   ]
  },
  {
   "cell_type": "markdown",
   "id": "a402aaa7-e76a-4f5e-97f5-78df71495eaa",
   "metadata": {},
   "source": [
    "#### Part 9. Calculating Results"
   ]
  },
  {
   "cell_type": "code",
   "execution_count": 18,
   "id": "b81231e7-9567-4950-9b4b-e379eeae794c",
   "metadata": {},
   "outputs": [],
   "source": [
    "# calculating medians\n",
    "\n",
    "import pandas as pd\n",
    "\n",
    "df1 = pd.read_excel(\"Gaussian_FrozenLake_GAMSM.xlsx\", sheet_name='Sheet1', header=None)\n",
    "df2 = pd.read_excel(\"Pink_FrozenLake_GAMSM.xlsx\", sheet_name='Sheet1', header=None)\n",
    "df3 = pd.read_excel(\"OU_FrozenLake_GAMSM.xlsx\", sheet_name='Sheet1', header=None)\n",
    "\n",
    "all_run_data1 = df1.values.tolist()\n",
    "all_run_data2 = df2.values.tolist()\n",
    "all_run_data3 = df3.values.tolist()\n",
    "\n",
    "median_array = []\n",
    "final_data1 = []\n",
    "final_data2 = []\n",
    "final_data3 = []\n",
    "\n",
    "# Gaussian\n",
    "for gen in range(number_of_generations):\n",
    "    for run_number in range(number_of_runs):\n",
    "         median_array.append(all_run_data1[run_number][gen])\n",
    "    final_data1.append(np.median(median_array))\n",
    "    median_array = []\n",
    "\n",
    "median_array = []\n",
    "\n",
    "# Pink\n",
    "for gen in range(number_of_generations):\n",
    "    for run_number in range(number_of_runs):\n",
    "         median_array.append(all_run_data2[run_number][gen])\n",
    "    final_data2.append(np.median(median_array))\n",
    "    median_array = []\n",
    "\n",
    "median_array = []\n",
    "\n",
    "# OU\n",
    "for gen in range(number_of_generations):\n",
    "    for run_number in range(number_of_runs):\n",
    "         median_array.append(all_run_data3[run_number][gen])\n",
    "    final_data3.append(np.median(median_array))\n",
    "    median_array = []"
   ]
  },
  {
   "cell_type": "markdown",
   "id": "bb8e8580-b9e8-45e2-b902-f3f268d0775d",
   "metadata": {},
   "source": [
    "#### Part 10. Displaying Results"
   ]
  },
  {
   "cell_type": "code",
   "execution_count": 19,
   "id": "53202ad9-845c-4654-9d92-c89c65e1b020",
   "metadata": {},
   "outputs": [
    {
     "name": "stdout",
     "output_type": "stream",
     "text": [
      "Median Scores For Each Generation Across 10 Runs with Different Noise Types\n",
      "+-------------------+--------------------------+----------------------+--------------------+\n",
      "| Generation Number | Median Scores - Gaussian | Median Scores - Pink | Median Scores - OU |\n",
      "+-------------------+--------------------------+----------------------+--------------------+\n",
      "|         1         |           0.0            |         0.0          |        0.0         |\n",
      "|         2         |           0.0            |         0.0          |        0.0         |\n",
      "|         3         |           0.0            |         0.0          |        0.0         |\n",
      "|         4         |           0.0            |         0.0          |        0.0         |\n",
      "|         5         |           0.01           |         0.0          |        0.0         |\n",
      "|         6         |           0.01           |         0.0          |        0.0         |\n",
      "|         7         |           0.01           |         0.0          |        0.0         |\n",
      "|         8         |           0.02           |         0.0          |        0.0         |\n",
      "|         9         |           0.02           |         0.0          |        0.0         |\n",
      "|         10        |           0.02           |         0.0          |        0.0         |\n",
      "|         11        |           0.02           |         0.01         |        0.0         |\n",
      "|         12        |           0.02           |         0.01         |        0.0         |\n",
      "|         13        |           0.03           |         0.02         |        0.0         |\n",
      "|         14        |           0.03           |         0.02         |        0.01        |\n",
      "|         15        |           0.03           |         0.02         |        0.01        |\n",
      "|         16        |           0.03           |         0.02         |        0.01        |\n",
      "|         17        |           0.04           |         0.03         |        0.01        |\n",
      "|         18        |           0.05           |         0.03         |        0.01        |\n",
      "|         19        |           0.05           |         0.04         |        0.01        |\n",
      "|         20        |           0.06           |         0.04         |        0.01        |\n",
      "|         21        |           0.06           |         0.06         |        0.02        |\n",
      "|         22        |           0.08           |         0.06         |        0.02        |\n",
      "|         23        |           0.12           |         0.11         |        0.02        |\n",
      "|         24        |           0.12           |         0.07         |        0.02        |\n",
      "|         25        |           0.11           |         0.06         |        0.02        |\n",
      "|         26        |           0.08           |         0.09         |        0.03        |\n",
      "|         27        |           0.09           |         0.08         |        0.04        |\n",
      "|         28        |           0.07           |         0.16         |        0.02        |\n",
      "|         29        |           0.15           |         0.21         |        0.02        |\n",
      "|         30        |           0.12           |         0.16         |        0.02        |\n",
      "|         31        |           0.15           |         0.29         |        0.03        |\n",
      "|         32        |           0.18           |         0.29         |        0.03        |\n",
      "|         33        |           0.21           |         0.24         |        0.04        |\n",
      "|         34        |           0.26           |         0.33         |        0.05        |\n",
      "|         35        |           0.12           |         0.34         |        0.08        |\n",
      "|         36        |           0.2            |         0.34         |        0.09        |\n",
      "|         37        |           0.32           |         0.29         |        0.08        |\n",
      "|         38        |           0.32           |         0.4          |        0.06        |\n",
      "|         39        |           0.34           |         0.48         |        0.09        |\n",
      "|         40        |           0.34           |         0.51         |        0.14        |\n",
      "|         41        |           0.47           |         0.55         |        0.16        |\n",
      "|         42        |           0.44           |         0.64         |        0.12        |\n",
      "|         43        |           0.52           |         0.59         |        0.14        |\n",
      "|         44        |           0.49           |         0.63         |        0.15        |\n",
      "|         45        |           0.54           |         0.68         |        0.07        |\n",
      "|         46        |           0.53           |         0.66         |        0.16        |\n",
      "|         47        |           0.56           |         0.66         |        0.19        |\n",
      "|         48        |           0.68           |         0.69         |        0.24        |\n",
      "|         49        |           0.63           |         0.7          |        0.16        |\n",
      "|         50        |           0.7            |         0.77         |        0.3         |\n",
      "|         51        |           0.7            |         0.66         |        0.33        |\n",
      "|         52        |           0.72           |         0.76         |        0.36        |\n",
      "|         53        |           0.72           |         0.71         |        0.42        |\n",
      "|         54        |           0.72           |         0.74         |        0.42        |\n",
      "|         55        |           0.8            |         0.78         |        0.48        |\n",
      "|         56        |           0.83           |         0.78         |        0.47        |\n",
      "|         57        |           0.78           |         0.8          |        0.5         |\n",
      "|         58        |           0.76           |         0.79         |        0.38        |\n",
      "|         59        |           0.78           |         0.84         |        0.46        |\n",
      "|         60        |           0.78           |         0.86         |        0.52        |\n",
      "|         61        |           0.78           |         0.84         |        0.57        |\n",
      "|         62        |           0.79           |         0.8          |        0.5         |\n",
      "|         63        |           0.72           |         0.88         |        0.53        |\n",
      "|         64        |           0.82           |         0.87         |        0.57        |\n",
      "|         65        |           0.78           |         0.9          |        0.58        |\n",
      "|         66        |           0.8            |         0.92         |        0.6         |\n",
      "|         67        |           0.88           |         0.92         |        0.62        |\n",
      "|         68        |           0.88           |         0.9          |        0.62        |\n",
      "|         69        |           0.93           |         0.95         |        0.66        |\n",
      "|         70        |           0.92           |         0.92         |        0.63        |\n",
      "|         71        |           0.89           |         0.96         |        0.64        |\n",
      "|         72        |           0.86           |         0.96         |        0.55        |\n",
      "|         73        |           0.8            |         0.95         |        0.77        |\n",
      "|         74        |           0.92           |         0.96         |        0.66        |\n",
      "|         75        |           0.93           |         0.92         |        0.7         |\n",
      "|         76        |           0.94           |         0.96         |        0.7         |\n",
      "|         77        |           0.94           |         0.94         |        0.73        |\n",
      "|         78        |           0.96           |         0.92         |        0.62        |\n",
      "|         79        |           0.96           |         0.88         |        0.7         |\n",
      "|         80        |           0.84           |         0.95         |        0.78        |\n",
      "|         81        |           0.94           |         0.92         |        0.85        |\n",
      "|         82        |           0.94           |         0.9          |        0.8         |\n",
      "|         83        |           0.9            |         0.94         |        0.7         |\n",
      "|         84        |           0.96           |         0.94         |        0.8         |\n",
      "|         85        |           0.89           |         0.94         |        0.8         |\n",
      "|         86        |           0.91           |         0.98         |        0.76        |\n",
      "|         87        |           0.94           |         0.94         |        0.82        |\n",
      "|         88        |           0.93           |         0.91         |        0.8         |\n",
      "|         89        |           0.88           |         0.92         |        0.8         |\n",
      "|         90        |           0.9            |         0.94         |        0.78        |\n",
      "|         91        |           0.94           |         0.96         |        0.75        |\n",
      "|         92        |           0.94           |         0.96         |        0.75        |\n",
      "|         93        |           0.94           |         0.94         |        0.8         |\n",
      "|         94        |           0.92           |         0.97         |        0.82        |\n",
      "|         95        |           0.96           |         0.96         |        0.86        |\n",
      "|         96        |           0.96           |         0.96         |        0.78        |\n",
      "|         97        |           0.95           |         0.94         |        0.82        |\n",
      "|         98        |           0.94           |         0.94         |        0.83        |\n",
      "|         99        |           0.9            |         0.94         |        0.77        |\n",
      "|        100        |           0.92           |         0.92         |        0.84        |\n",
      "|        101        |           0.92           |         0.92         |        0.69        |\n",
      "|        102        |           0.94           |         0.95         |        0.74        |\n",
      "|        103        |           0.96           |         0.94         |        0.8         |\n",
      "|        104        |           0.92           |         0.96         |        0.79        |\n",
      "|        105        |           0.97           |         0.98         |        0.84        |\n",
      "|        106        |           0.9            |         0.98         |        0.83        |\n",
      "|        107        |           0.96           |         0.97         |        0.84        |\n",
      "|        108        |           0.92           |         0.98         |        0.91        |\n",
      "|        109        |           0.88           |         0.96         |        0.84        |\n",
      "|        110        |           0.94           |         0.95         |        0.87        |\n",
      "|        111        |           0.96           |         0.95         |        0.88        |\n",
      "|        112        |           0.96           |         0.96         |        0.9         |\n",
      "|        113        |           0.88           |         0.95         |        0.92        |\n",
      "|        114        |           0.98           |         0.94         |        0.84        |\n",
      "|        115        |           0.93           |         0.93         |        0.91        |\n",
      "|        116        |           0.91           |         0.96         |        0.92        |\n",
      "|        117        |           0.94           |         0.97         |        0.92        |\n",
      "|        118        |           0.95           |         0.95         |        0.92        |\n",
      "|        119        |           0.94           |         0.94         |        0.91        |\n",
      "|        120        |           0.86           |         0.98         |        0.92        |\n",
      "|        121        |           0.88           |         0.98         |        0.9         |\n",
      "|        122        |           0.94           |         0.98         |        0.96        |\n",
      "|        123        |           0.93           |         0.96         |        0.9         |\n",
      "|        124        |           0.96           |         1.0          |        0.91        |\n",
      "|        125        |           0.94           |         0.99         |        0.9         |\n",
      "|        126        |           0.98           |         1.0          |        0.92        |\n",
      "|        127        |           0.96           |         0.99         |        0.88        |\n",
      "|        128        |           0.98           |         0.98         |        0.88        |\n",
      "|        129        |           1.0            |         0.97         |        0.92        |\n",
      "|        130        |           0.98           |         1.0          |        0.91        |\n",
      "|        131        |           0.98           |         1.0          |        0.93        |\n",
      "|        132        |           0.96           |         1.0          |        0.96        |\n",
      "|        133        |           0.96           |         1.0          |        0.92        |\n",
      "|        134        |           0.96           |         1.0          |        0.95        |\n",
      "|        135        |           0.97           |         1.0          |        0.96        |\n",
      "|        136        |           0.98           |         1.0          |        0.96        |\n",
      "|        137        |           0.98           |         1.0          |        0.96        |\n",
      "|        138        |           1.0            |         1.0          |        0.97        |\n",
      "|        139        |           1.0            |         1.0          |        0.97        |\n",
      "|        140        |           0.98           |         1.0          |        0.94        |\n",
      "|        141        |           1.0            |         1.0          |        0.98        |\n",
      "|        142        |           0.99           |         1.0          |        0.99        |\n",
      "|        143        |           1.0            |         1.0          |        0.98        |\n",
      "|        144        |           1.0            |         1.0          |        0.99        |\n",
      "|        145        |           1.0            |         1.0          |        0.96        |\n",
      "|        146        |           1.0            |         1.0          |        0.98        |\n",
      "|        147        |           1.0            |         1.0          |        0.98        |\n",
      "|        148        |           1.0            |         1.0          |        0.98        |\n",
      "|        149        |           1.0            |         1.0          |        0.99        |\n",
      "|        150        |           0.99           |         1.0          |        0.96        |\n",
      "|        151        |           0.98           |         1.0          |        0.96        |\n",
      "|        152        |           1.0            |         1.0          |        0.97        |\n",
      "|        153        |           0.99           |         1.0          |        0.98        |\n",
      "|        154        |           0.99           |         1.0          |        0.96        |\n",
      "|        155        |           0.99           |         1.0          |        0.97        |\n",
      "|        156        |           0.96           |         1.0          |        0.98        |\n",
      "|        157        |           0.98           |         1.0          |        0.94        |\n",
      "|        158        |           0.96           |         1.0          |        0.94        |\n",
      "|        159        |           0.98           |         1.0          |        0.96        |\n",
      "|        160        |           1.0            |         1.0          |        0.96        |\n",
      "|        161        |           0.96           |         1.0          |        0.96        |\n",
      "|        162        |           0.99           |         1.0          |        0.98        |\n",
      "|        163        |           1.0            |         1.0          |        0.99        |\n",
      "|        164        |           0.97           |         1.0          |        1.0         |\n",
      "|        165        |           1.0            |         1.0          |        0.98        |\n",
      "|        166        |           0.99           |         1.0          |        0.98        |\n",
      "|        167        |           1.0            |         1.0          |        0.99        |\n",
      "|        168        |           0.99           |         1.0          |        1.0         |\n",
      "|        169        |           0.99           |         1.0          |        0.99        |\n",
      "|        170        |           0.99           |         1.0          |        0.96        |\n",
      "|        171        |           0.99           |         1.0          |        0.98        |\n",
      "|        172        |           0.98           |         1.0          |        0.98        |\n",
      "|        173        |           0.97           |         1.0          |        0.92        |\n",
      "|        174        |           0.97           |         1.0          |        0.98        |\n",
      "|        175        |           0.98           |         1.0          |        0.99        |\n",
      "|        176        |           0.98           |         1.0          |        0.98        |\n",
      "|        177        |           1.0            |         1.0          |        0.98        |\n",
      "|        178        |           1.0            |         1.0          |        0.98        |\n",
      "|        179        |           0.98           |         1.0          |        0.94        |\n",
      "|        180        |           1.0            |         1.0          |        0.96        |\n",
      "|        181        |           0.98           |         1.0          |        0.96        |\n",
      "|        182        |           1.0            |         1.0          |        0.96        |\n",
      "|        183        |           1.0            |         1.0          |        0.9         |\n",
      "|        184        |           1.0            |         1.0          |        0.87        |\n",
      "|        185        |           1.0            |         1.0          |        0.88        |\n",
      "|        186        |           1.0            |         1.0          |        0.88        |\n",
      "|        187        |           1.0            |         1.0          |        0.96        |\n",
      "|        188        |           1.0            |         1.0          |        0.96        |\n",
      "|        189        |           1.0            |         1.0          |        0.96        |\n",
      "|        190        |           1.0            |         1.0          |        0.95        |\n",
      "|        191        |           1.0            |         1.0          |        0.97        |\n",
      "|        192        |           1.0            |         1.0          |        0.98        |\n",
      "|        193        |           1.0            |         1.0          |        0.96        |\n",
      "|        194        |           1.0            |         1.0          |        1.0         |\n",
      "|        195        |           1.0            |         1.0          |        0.95        |\n",
      "|        196        |           1.0            |         1.0          |        0.94        |\n",
      "|        197        |           1.0            |         1.0          |        0.92        |\n",
      "|        198        |           1.0            |         1.0          |        0.98        |\n",
      "|        199        |           1.0            |         1.0          |        0.94        |\n",
      "|        200        |           1.0            |         1.0          |        0.96        |\n",
      "+-------------------+--------------------------+----------------------+--------------------+\n"
     ]
    }
   ],
   "source": [
    "from prettytable import PrettyTable\n",
    "\n",
    "table = PrettyTable()\n",
    "\n",
    "print(\"Median Scores For Each Generation Across 10 Runs with Different Noise Types\")\n",
    "\n",
    "table.field_names = [\"Generation Number\", \"Median Scores - Gaussian\", \"Median Scores - Pink\", \"Median Scores - OU\"]\n",
    "\n",
    "for i in range(200):\n",
    "    table.add_row([i + 1, round(final_data1[i],2), round(final_data2[i],2), round(final_data3[i],2) ])\n",
    "\n",
    "print(table)"
   ]
  },
  {
   "cell_type": "code",
   "execution_count": 20,
   "id": "46137dc7-bd2b-48c7-89d9-cdfc56c2cdb6",
   "metadata": {},
   "outputs": [
    {
     "data": {
      "image/png": "[encoded data removed]",
      "text/plain": [
       "<Figure size 1080x720 with 1 Axes>"
      ]
     },
     "metadata": {
      "needs_background": "light"
     },
     "output_type": "display_data"
    }
   ],
   "source": [
    "graphResults.display_triple_results(number_of_generations, \"Generations\", \"Median Scores of Average Population Fitness (10 Runs)\", \"Median Average Population Fitness across Generations with different Noise Types\",final_data1, final_data2, final_data3)"
   ]
  },
  {
   "cell_type": "markdown",
   "id": "fdb44a7c-ba58-4ddf-afd7-b8c0ee8c9a55",
   "metadata": {},
   "source": [
    "#### Part 11. Pairwise Mann Whitney U Tests"
   ]
  },
  {
   "cell_type": "code",
   "execution_count": 22,
   "id": "95e6683c-02cd-4af2-88a1-169ed170b4fa",
   "metadata": {},
   "outputs": [
    {
     "name": "stdout",
     "output_type": "stream",
     "text": [
      "Comparison: gaussian vs pink\n",
      "P-Value: 0.023508040823817432\n",
      "Result: No statistically significant difference.\n",
      "\n",
      "Comparison: gaussian vs ou\n",
      "P-Value: 2.0297499986194218e-06\n",
      "Result: Statistically significant difference.\n",
      "\n",
      "Comparison: pink vs ou\n",
      "P-Value: 3.708658457498849e-10\n",
      "Result: Statistically significant difference.\n",
      "\n"
     ]
    }
   ],
   "source": [
    "import numpy as np\n",
    "from scipy.stats import mannwhitneyu\n",
    "\n",
    "# Sample data (performance of algorithms across 10 runs)\n",
    "gaussian = final_data1\n",
    "pink = final_data2\n",
    "ou = final_data3\n",
    "\n",
    "# Pairwise Mann-Whitney U tests\n",
    "pairs = [('gaussian', 'pink'), ('gaussian', 'ou'), ('pink', 'ou')]\n",
    "\n",
    "# Significance level\n",
    "alpha = 0.01\n",
    "\n",
    "# Perform U tests for each pair and print results\n",
    "for alg1, alg2 in pairs:\n",
    "    data1 = locals()[alg1]\n",
    "    data2 = locals()[alg2]\n",
    "    stat, p_value = mannwhitneyu(data1, data2, alternative='two-sided')\n",
    "    \n",
    "    print(f\"Comparison: {alg1} vs {alg2}\")\n",
    "    print(f\"P-Value: {p_value}\")\n",
    "    \n",
    "    # Check for statistical significance\n",
    "    if p_value < alpha:\n",
    "        print(\"Result: Statistically significant difference.\\n\")\n",
    "    else:\n",
    "        print(\"Result: No statistically significant difference.\\n\")\n"
   ]
  }
 ],
 "metadata": {
  "accelerator": "TPU",
  "colab": {
   "gpuType": "V28",
   "provenance": []
  },
  "kernelspec": {
   "display_name": "Python 3 (ipykernel)",
   "language": "python",
   "name": "python3"
  },
  "language_info": {
   "codemirror_mode": {
    "name": "ipython",
    "version": 3
   },
   "file_extension": ".py",
   "mimetype": "text/x-python",
   "name": "python",
   "nbconvert_exporter": "python",
   "pygments_lexer": "ipython3",
   "version": "3.9.13"
  }
 },
 "nbformat": 4,
 "nbformat_minor": 5
}
