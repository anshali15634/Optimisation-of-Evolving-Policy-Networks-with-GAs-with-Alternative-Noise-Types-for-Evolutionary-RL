{
 "cells": [
  {
   "cell_type": "markdown",
   "id": "993f11d9",
   "metadata": {
    "id": "993f11d9",
    "tags": []
   },
   "source": [
    "## **COMP4082 - Autonomous Robotic Systems**\n",
    "---\n",
    "\n",
    "**Student Name:** Anshali Manoharan\n",
    "\n",
    "**Student ID:** 20506330\n",
    "\n",
    "---\n",
    "\n",
    "## A Novel Version of the GA-MSM (Genetic Algorithm with Multi-Step Mutation), GA-MSM-P (Genetic Algorithm with Multi-Step Mutation and Preservation)\n",
    "\n",
    "### Summary of Findings\n",
    "\n",
    "- **Observation**: In the original Genetic Algorithm with Multi-Step Mutation (GA-MSM), when a new population was created, evolutionary progress was discarded in favor of a diversity-based fitness measure, leading to a drop in fitness.\n",
    "  \n",
    "- **Problem**: Elites selected based on diversity were mutated and crossed over, but they often did not perform well in the environment, resulting in reduced fitness.\n",
    "\n",
    "- **Solution**: A modified approach, GA-MSM-P was implemented:\n",
    "  - The new population was created using elites from the original mutated population.\n",
    "  - Elites selected based on diversity were preserved.\n",
    "  - This ensured both diversity and the retention of evolutionary progress.\n",
    "\n",
    "- **Results**: \n",
    "  - Both versions were run 10 times, and median fitness scores were compared.\n",
    "  - The modified version showed statistically better performance.\n",
    "\n",
    "\n",
    "<i>This notebook will carry out the necessary experimentation and analysis required to show the statistical significance between the original and novel version of the algorithm.</i>\n",
    "\n",
    "\n",
    "---"
   ]
  },
  {
   "cell_type": "markdown",
   "id": "a4cb8060",
   "metadata": {
    "tags": []
   },
   "source": [
    "#### Part 1: Install all necessary dependencies\n",
    "- This part installs the necessary Python libraries: `gymnasium`, `tensorflow`, `colorednoise`, `matplotlib`, `numpy`, and `uuid`.\n",
    "- The `os.environ['TF_CPP_MIN_LOG_LEVEL'] = '2'` suppresses TensorFlow logs for CPU optimization messages to reduce unnecessary output.\n",
    "\n",
    "---\n"
   ]
  },
  {
   "cell_type": "code",
   "execution_count": 1,
   "id": "_hMIGSOVxvse",
   "metadata": {
    "colab": {
     "base_uri": "https://localhost:8080/"
    },
    "id": "_hMIGSOVxvse",
    "outputId": "978f4f4b-38af-47f8-9f73-85af75edd6f1",
    "scrolled": true
   },
   "outputs": [
    {
     "name": "stdout",
     "output_type": "stream",
     "text": [
      "Defaulting to user installation because normal site-packages is not writeable\n",
      "Requirement already satisfied: gymnasium in ./.local/lib/python3.7/site-packages (0.28.1)\n",
      "Requirement already satisfied: tensorflow in ./.local/lib/python3.7/site-packages (2.11.0)\n",
      "Requirement already satisfied: matplotlib in ./.local/lib/python3.7/site-packages (3.5.3)\n",
      "Requirement already satisfied: numpy in /cm/local/apps/python37/lib/python3.7/site-packages (1.21.6)\n",
      "Requirement already satisfied: uuid in ./.local/lib/python3.7/site-packages (1.30)\n",
      "Requirement already satisfied: prettytable in /cm/local/apps/python37/lib/python3.7/site-packages (0.7.2)\n",
      "Requirement already satisfied: scipy in /cm/local/apps/python37/lib/python3.7/site-packages (1.7.3)\n",
      "Requirement already satisfied: jax-jumpy>=1.0.0 in ./.local/lib/python3.7/site-packages (from gymnasium) (1.0.0)\n",
      "Requirement already satisfied: cloudpickle>=1.2.0 in ./.local/lib/python3.7/site-packages (from gymnasium) (2.2.1)\n",
      "Requirement already satisfied: typing-extensions>=4.3.0 in /cm/local/apps/python37/lib/python3.7/site-packages (from gymnasium) (4.5.0)\n",
      "Requirement already satisfied: farama-notifications>=0.0.1 in ./.local/lib/python3.7/site-packages (from gymnasium) (0.0.4)\n",
      "Requirement already satisfied: importlib-metadata>=4.8.0 in /cm/local/apps/python37/lib/python3.7/site-packages (from gymnasium) (6.0.0)\n",
      "Requirement already satisfied: absl-py>=1.0.0 in /cm/local/apps/python37/lib/python3.7/site-packages (from tensorflow) (1.0.0)\n",
      "Requirement already satisfied: astunparse>=1.6.0 in /cm/local/apps/python37/lib/python3.7/site-packages (from tensorflow) (1.6.3)\n",
      "Requirement already satisfied: flatbuffers>=2.0 in /cm/local/apps/python37/lib/python3.7/site-packages (from tensorflow) (2.0)\n",
      "Requirement already satisfied: gast<=0.4.0,>=0.2.1 in ./.local/lib/python3.7/site-packages (from tensorflow) (0.4.0)\n",
      "Requirement already satisfied: google-pasta>=0.1.1 in /cm/local/apps/python37/lib/python3.7/site-packages (from tensorflow) (0.2.0)\n",
      "Requirement already satisfied: grpcio<2.0,>=1.24.3 in /cm/local/apps/python37/lib/python3.7/site-packages (from tensorflow) (1.44.0)\n",
      "Requirement already satisfied: h5py>=2.9.0 in /cm/local/apps/python37/lib/python3.7/site-packages (from tensorflow) (3.6.0)\n",
      "Requirement already satisfied: keras<2.12,>=2.11.0 in ./.local/lib/python3.7/site-packages (from tensorflow) (2.11.0)\n",
      "Requirement already satisfied: libclang>=13.0.0 in /cm/local/apps/python37/lib/python3.7/site-packages (from tensorflow) (13.0.0)\n",
      "Requirement already satisfied: opt-einsum>=2.3.2 in /cm/local/apps/python37/lib/python3.7/site-packages (from tensorflow) (3.3.0)\n",
      "Requirement already satisfied: packaging in /cm/local/apps/python37/lib/python3.7/site-packages (from tensorflow) (23.0)\n",
      "Requirement already satisfied: protobuf<3.20,>=3.9.2 in ./.local/lib/python3.7/site-packages (from tensorflow) (3.19.6)\n",
      "Requirement already satisfied: setuptools in /cm/local/apps/python37/lib/python3.7/site-packages (from tensorflow) (47.1.0)\n",
      "Requirement already satisfied: six>=1.12.0 in /cm/local/apps/python37/lib/python3.7/site-packages (from tensorflow) (1.16.0)\n",
      "Requirement already satisfied: tensorboard<2.12,>=2.11 in ./.local/lib/python3.7/site-packages (from tensorflow) (2.11.2)\n",
      "Requirement already satisfied: tensorflow-estimator<2.12,>=2.11.0 in ./.local/lib/python3.7/site-packages (from tensorflow) (2.11.0)\n",
      "Requirement already satisfied: termcolor>=1.1.0 in /cm/local/apps/python37/lib/python3.7/site-packages (from tensorflow) (1.1.0)\n",
      "Requirement already satisfied: wrapt>=1.11.0 in /cm/local/apps/python37/lib/python3.7/site-packages (from tensorflow) (1.15.0)\n",
      "Requirement already satisfied: tensorflow-io-gcs-filesystem>=0.23.1 in /cm/local/apps/python37/lib/python3.7/site-packages (from tensorflow) (0.24.0)\n",
      "Requirement already satisfied: cycler>=0.10 in /cm/local/apps/python37/lib/python3.7/site-packages (from matplotlib) (0.11.0)\n",
      "Requirement already satisfied: fonttools>=4.22.0 in /cm/local/apps/python37/lib/python3.7/site-packages (from matplotlib) (4.32.0)\n",
      "Requirement already satisfied: kiwisolver>=1.0.1 in /cm/local/apps/python37/lib/python3.7/site-packages (from matplotlib) (1.4.2)\n",
      "Requirement already satisfied: pillow>=6.2.0 in /cm/local/apps/python37/lib/python3.7/site-packages (from matplotlib) (9.1.0)\n",
      "Requirement already satisfied: pyparsing>=2.2.1 in /cm/local/apps/python37/lib/python3.7/site-packages (from matplotlib) (3.0.9)\n",
      "Requirement already satisfied: python-dateutil>=2.7 in /cm/local/apps/python37/lib/python3.7/site-packages (from matplotlib) (2.8.2)\n",
      "Requirement already satisfied: wheel<1.0,>=0.23.0 in /cm/local/apps/python37/lib/python3.7/site-packages (from astunparse>=1.6.0->tensorflow) (0.37.1)\n",
      "Requirement already satisfied: cached-property in /cm/local/apps/python37/lib/python3.7/site-packages (from h5py>=2.9.0->tensorflow) (1.5.2)\n",
      "Requirement already satisfied: zipp>=0.5 in /cm/local/apps/python37/lib/python3.7/site-packages (from importlib-metadata>=4.8.0->gymnasium) (3.15.0)\n",
      "Requirement already satisfied: google-auth<3,>=1.6.3 in ./.local/lib/python3.7/site-packages (from tensorboard<2.12,>=2.11->tensorflow) (2.36.0)\n",
      "Requirement already satisfied: google-auth-oauthlib<0.5,>=0.4.1 in /cm/local/apps/python37/lib/python3.7/site-packages (from tensorboard<2.12,>=2.11->tensorflow) (0.4.6)\n",
      "Requirement already satisfied: markdown>=2.6.8 in /cm/local/apps/python37/lib/python3.7/site-packages (from tensorboard<2.12,>=2.11->tensorflow) (3.3.6)\n",
      "Requirement already satisfied: requests<3,>=2.21.0 in /cm/local/apps/python37/lib/python3.7/site-packages (from tensorboard<2.12,>=2.11->tensorflow) (2.28.2)\n",
      "Requirement already satisfied: tensorboard-data-server<0.7.0,>=0.6.0 in /cm/local/apps/python37/lib/python3.7/site-packages (from tensorboard<2.12,>=2.11->tensorflow) (0.6.1)\n",
      "Requirement already satisfied: tensorboard-plugin-wit>=1.6.0 in /cm/local/apps/python37/lib/python3.7/site-packages (from tensorboard<2.12,>=2.11->tensorflow) (1.8.1)\n",
      "Requirement already satisfied: werkzeug>=1.0.1 in /cm/local/apps/python37/lib/python3.7/site-packages (from tensorboard<2.12,>=2.11->tensorflow) (2.1.1)\n",
      "Requirement already satisfied: cachetools<6.0,>=2.0.0 in /cm/local/apps/python37/lib/python3.7/site-packages (from google-auth<3,>=1.6.3->tensorboard<2.12,>=2.11->tensorflow) (5.3.0)\n",
      "Requirement already satisfied: pyasn1-modules>=0.2.1 in ./.local/lib/python3.7/site-packages (from google-auth<3,>=1.6.3->tensorboard<2.12,>=2.11->tensorflow) (0.3.0)\n",
      "Requirement already satisfied: rsa<5,>=3.1.4 in ./.local/lib/python3.7/site-packages (from google-auth<3,>=1.6.3->tensorboard<2.12,>=2.11->tensorflow) (4.9)\n",
      "Requirement already satisfied: requests-oauthlib>=0.7.0 in /cm/local/apps/python37/lib/python3.7/site-packages (from google-auth-oauthlib<0.5,>=0.4.1->tensorboard<2.12,>=2.11->tensorflow) (1.3.1)\n",
      "Requirement already satisfied: charset-normalizer<4,>=2 in /cm/local/apps/python37/lib/python3.7/site-packages (from requests<3,>=2.21.0->tensorboard<2.12,>=2.11->tensorflow) (3.1.0)\n",
      "Requirement already satisfied: idna<4,>=2.5 in /cm/local/apps/python37/lib/python3.7/site-packages (from requests<3,>=2.21.0->tensorboard<2.12,>=2.11->tensorflow) (3.4)\n",
      "Requirement already satisfied: urllib3<1.27,>=1.21.1 in /cm/local/apps/python37/lib/python3.7/site-packages (from requests<3,>=2.21.0->tensorboard<2.12,>=2.11->tensorflow) (1.26.15)\n",
      "Requirement already satisfied: certifi>=2017.4.17 in /cm/local/apps/python37/lib/python3.7/site-packages (from requests<3,>=2.21.0->tensorboard<2.12,>=2.11->tensorflow) (2022.12.7)\n",
      "Requirement already satisfied: pyasn1<0.6.0,>=0.4.6 in ./.local/lib/python3.7/site-packages (from pyasn1-modules>=0.2.1->google-auth<3,>=1.6.3->tensorboard<2.12,>=2.11->tensorflow) (0.5.1)\n",
      "Requirement already satisfied: oauthlib>=3.0.0 in /cm/local/apps/python37/lib/python3.7/site-packages (from requests-oauthlib>=0.7.0->google-auth-oauthlib<0.5,>=0.4.1->tensorboard<2.12,>=2.11->tensorflow) (3.2.2)\n",
      "\u001b[33mDEPRECATION: cm-create-image master has a non-standard version number. pip 24.1 will enforce this behaviour change. A possible replacement is to upgrade to a newer version of cm-create-image or contact the author to suggest that they release a version with a conforming version number. Discussion can be found at https://github.com/pypa/pip/issues/12063\u001b[0m\u001b[33m\n",
      "\u001b[0m\n",
      "\u001b[1m[\u001b[0m\u001b[34;49mnotice\u001b[0m\u001b[1;39;49m]\u001b[0m\u001b[39;49m A new release of pip is available: \u001b[0m\u001b[31;49m22.0.4\u001b[0m\u001b[39;49m -> \u001b[0m\u001b[32;49m24.0\u001b[0m\n",
      "\u001b[1m[\u001b[0m\u001b[34;49mnotice\u001b[0m\u001b[1;39;49m]\u001b[0m\u001b[39;49m To update, run: \u001b[0m\u001b[32;49mpython3 -m pip install --upgrade pip\u001b[0m\n"
     ]
    }
   ],
   "source": [
    "!pip install gymnasium tensorflow matplotlib numpy uuid prettytable scipy"
   ]
  },
  {
   "cell_type": "code",
   "execution_count": 2,
   "id": "17972eb0-550e-4475-97ca-795ffb95f929",
   "metadata": {
    "tags": []
   },
   "outputs": [],
   "source": [
    "import os\n",
    "\n",
    "# The code execution occurred on a CPU.\n",
    "# As a result, TensorFlow logs related to optimizations for CPU architecture\n",
    "# (e.g., AVX2, FMA) were suppressed.\n",
    "\n",
    "os.environ['TF_CPP_MIN_LOG_LEVEL'] = '2'"
   ]
  },
  {
   "cell_type": "markdown",
   "id": "3c0cd600",
   "metadata": {},
   "source": [
    "#### Part 2. All necessary imports\n",
    "- Imports standard libraries such as `numpy`, `random`, and `matplotlib` for numerical computations, random processes, and plotting.\n",
    "- Imports TensorFlow's `keras` submodules for deep learning functionalities.\n",
    "- `gymnasium` is imported to work with reinforcement learning environments.\n",
    "- Additional modules like `joblib`, `uuid`, `time` and `prettytable` are included for parallel processing, unique ID creation for the models created during parallel processing, time-related operations and data visualisation.\n",
    "- Custom modules (`populationGenerator`, `crossOverOperator`, `fitnessOperators`, `GAMSM`, and `graphResults`) are imported for the genetic algorithms and related operations.\n"
   ]
  },
  {
   "cell_type": "code",
   "execution_count": 3,
   "id": "b25d7300-fa8d-4f00-89ce-e02102970f18",
   "metadata": {},
   "outputs": [],
   "source": [
    "import numpy as np\n",
    "import random\n",
    "from tensorflow.keras import layers, models\n",
    "import gymnasium as gym\n",
    "import matplotlib.pyplot as plt\n",
    "from joblib import Parallel, delayed\n",
    "import random\n",
    "import copy\n",
    "import tensorflow as tf\n",
    "import time\n",
    "import uuid\n",
    "from prettytable import PrettyTable\n",
    "from scipy.stats import mannwhitneyu\n",
    "\n",
    "from population_generator import populationGenerator\n",
    "from crossover_operator import crossOverOperator\n",
    "from fitness_operators import fitnessOperators\n",
    "from graph_results import graphResults"
   ]
  },
  {
   "cell_type": "markdown",
   "id": "97f17425-4f6b-4682-ad04-de1fd223cf2c",
   "metadata": {},
   "source": [
    "#### Part 3. Setting hyperparameters\n",
    "- Defines hyperparameters used by the GA-MSM algorithm:\n",
    "  - `number_of_additional_mutations`: Specifies how many additional mutations occur per generation, based on the Core Paper A.\n",
    "  - `population_number`: Total population size for the genetic algorithm.\n",
    "  - `elite_percentage`: Top percentage of the population to be considered elite, based on Core Paper A\n",
    "  - `noise_type`: Gaussian noise is applied to both versions of the algorithms, as it is the default\n",
    "  - `number_of_generations`: The number of generations for the algorithm to run, with 200 chosen based on convergence trends from Core Paper A\n",
    "  - `number_of_runs`: The total number of times the algorithm should be run when a different configuration is implemented."
   ]
  },
  {
   "cell_type": "code",
   "execution_count": 4,
   "id": "hEgV5aMTSrXb",
   "metadata": {
    "colab": {
     "base_uri": "https://localhost:8080/"
    },
    "id": "hEgV5aMTSrXb",
    "outputId": "49884c56-c775-4e1b-cef0-2a3364adf58e"
   },
   "outputs": [],
   "source": [
    "number_of_additional_mutations = 10\n",
    "population_number = 100\n",
    "elite_percentage = 0.1\n",
    "noise_type = \"gaussian\"\n",
    "number_of_generations = 200\n",
    "number_of_runs = 10"
   ]
  },
  {
   "cell_type": "markdown",
   "id": "fb75cfd0-72f0-4563-8db2-96cb3b604fc5",
   "metadata": {},
   "source": [
    "#### Part 4. Implementing GA-MSM\n",
    "\n",
    "- This part executes the GA-MSM algorithm by creating an instance of the `GAMSM` class with the specified hyperparameters: the number of additional mutations, population size, elite percentage, noise type, and the number of generations.\n",
    "- 10 runs of GA-MSM are carried out. For each generation in each run, the average score of the entire population is recorded. At the end of the 10 runs, the median across generations is calculated and displayed.\n",
    "\n"
   ]
  },
  {
   "cell_type": "code",
   "execution_count": 5,
   "id": "91f4b1aa",
   "metadata": {
    "tags": []
   },
   "outputs": [
    {
     "name": "stdout",
     "output_type": "stream",
     "text": [
      "Run Number:  1\n",
      "Total Runtime: 0 hours and 4 minutes.\n",
      "Run Number:  2\n",
      "Total Runtime: 0 hours and 4 minutes.\n",
      "Run Number:  3\n",
      "Total Runtime: 0 hours and 5 minutes.\n",
      "Run Number:  4\n",
      "Total Runtime: 0 hours and 4 minutes.\n",
      "Run Number:  5\n",
      "Total Runtime: 0 hours and 4 minutes.\n",
      "Run Number:  6\n",
      "Total Runtime: 0 hours and 4 minutes.\n",
      "Run Number:  7\n",
      "Total Runtime: 0 hours and 5 minutes.\n",
      "Run Number:  8\n",
      "Total Runtime: 0 hours and 3 minutes.\n",
      "Run Number:  9\n",
      "Total Runtime: 0 hours and 4 minutes.\n",
      "Run Number:  10\n",
      "Total Runtime: 0 hours and 4 minutes.\n",
      "\n",
      "Overall Runtime: 0 hours and 45 minutes.\n"
     ]
    }
   ],
   "source": [
    "from GA_MSM_algorithm import GAMSM\n",
    "\n",
    "all_run_data_1 = []\n",
    "\n",
    "start_time = time.time()\n",
    "\n",
    "# 10 runs are performed\n",
    "for i in range(number_of_runs):\n",
    "\n",
    "    print(\"Run Number: \", i+1)\n",
    "    GA_MSM_with_Gaussian_noise = GAMSM(number_of_additional_mutations, population_number, elite_percentage, noise_type, number_of_generations, 1)\n",
    "    GA_MSM_with_Gaussian_noise.run() # results stores average of each generation - 200 average scores stored\n",
    "    all_run_data_1.append(GA_MSM_with_Gaussian_noise.average_population_fitness)\n",
    "\n",
    "end_time = time.time()\n",
    "\n",
    "total_time = end_time - start_time\n",
    "hours, minutes = divmod(total_time // 60, 60)\n",
    "print(f\"\\nOverall Runtime: {int(hours)} hours and {int(minutes)} minutes.\")"
   ]
  },
  {
   "cell_type": "markdown",
   "id": "818932f4-17bc-4839-875b-9b50a9ba087e",
   "metadata": {},
   "source": [
    "#### Part 6. Implementing GA-MSM-P\n",
    "- The novel version of the algorithm is tested in the same manner."
   ]
  },
  {
   "cell_type": "code",
   "execution_count": 6,
   "id": "f2c52341-38c8-4227-9079-838eefc5dff4",
   "metadata": {},
   "outputs": [
    {
     "name": "stdout",
     "output_type": "stream",
     "text": [
      "Run Number:  1\n",
      "Total Runtime: 0 hours and 2 minutes.\n",
      "Run Number:  2\n",
      "Total Runtime: 0 hours and 4 minutes.\n",
      "Run Number:  3\n",
      "Total Runtime: 0 hours and 3 minutes.\n",
      "Run Number:  4\n",
      "Total Runtime: 0 hours and 4 minutes.\n",
      "Run Number:  5\n",
      "Total Runtime: 0 hours and 3 minutes.\n",
      "Run Number:  6\n",
      "Total Runtime: 0 hours and 4 minutes.\n",
      "Run Number:  7\n",
      "Total Runtime: 0 hours and 4 minutes.\n",
      "Run Number:  8\n",
      "Total Runtime: 0 hours and 4 minutes.\n",
      "Run Number:  9\n",
      "Total Runtime: 0 hours and 4 minutes.\n",
      "Run Number:  10\n",
      "Total Runtime: 0 hours and 3 minutes.\n",
      "\n",
      "Overall Runtime: 0 hours and 40 minutes.\n"
     ]
    }
   ],
   "source": [
    "from GA_MSM_P_algorithm import GAMSM_P\n",
    "\n",
    "all_run_data_2 = []\n",
    "\n",
    "start_time = time.time()\n",
    "\n",
    "# 10 runs are performed\n",
    "for i in range(number_of_runs):\n",
    "\n",
    "    print(\"Run Number: \", i+1)\n",
    "    GA_MSMP_with_Gaussian_noise = GAMSM_P(number_of_additional_mutations, population_number, elite_percentage, noise_type, number_of_generations, 1)\n",
    "    GA_MSMP_with_Gaussian_noise.run() # results stores average of each generation - 200 average scores stored\n",
    "    all_run_data_2.append(GA_MSMP_with_Gaussian_noise.average_population_fitness)\n",
    "\n",
    "end_time = time.time()\n",
    "\n",
    "total_time = end_time - start_time\n",
    "hours, minutes = divmod(total_time // 60, 60)\n",
    "print(f\"\\nOverall Runtime: {int(hours)} hours and {int(minutes)} minutes.\")"
   ]
  },
  {
   "cell_type": "code",
   "execution_count": 7,
   "id": "88a7ecde-7405-4108-9cff-44c6697b7ef9",
   "metadata": {},
   "outputs": [],
   "source": [
    "import pandas as pd\n",
    "df1 = pd.DataFrame(all_run_data_1)\n",
    "df2 = pd.DataFrame(all_run_data_2)\n",
    "\n",
    "with pd.ExcelWriter('novelty.xlsx', engine='openpyxl') as writer:\n",
    "    df1.to_excel(writer, sheet_name='Sheet1', index=False, header=False)  # Writing array1 to 'Sheet1'\n",
    "    df2.to_excel(writer, sheet_name='Sheet2', index=False, header=False)  # Writing array2 to 'Sheet2'"
   ]
  },
  {
   "cell_type": "markdown",
   "id": "c9450afe-b91a-47db-a4b6-c0a9f62936bc",
   "metadata": {
    "tags": []
   },
   "source": [
    "#### Part 5. Calculating Results for GA-MSM and GA-MSM-P\n",
    "\n",
    "- the medians of each generation across the 10 runs is calculated.\n",
    "- these median scores will be used for calculating statistical significance."
   ]
  },
  {
   "cell_type": "code",
   "execution_count": 8,
   "id": "7e586deb-cb95-41c9-9bc3-f3bb17cd6232",
   "metadata": {},
   "outputs": [],
   "source": [
    "# calculating medians\n",
    "import pandas as pd\n",
    "\n",
    "all_run_data_1 = pd.read_excel('novelty.xlsx', sheet_name='Sheet1', header=None)\n",
    "all_run_data_2 = pd.read_excel('novelty.xlsx', sheet_name='Sheet2', header=None)\n",
    "\n",
    "median_array = []\n",
    "final_data1 = []\n",
    "final_data2 = []\n",
    "\n",
    "# GA-MSM\n",
    "for gen in range(number_of_generations):\n",
    "    for run_number in range(number_of_runs):\n",
    "         median_array.append(all_run_data_1[gen][run_number])\n",
    "    final_data1.append(np.median(median_array))\n",
    "    median_array = []\n",
    "\n",
    "median_array = []\n",
    "\n",
    "# GA-MSM-P\n",
    "for gen in range(number_of_generations):\n",
    "    for run_number in range(number_of_runs):\n",
    "         median_array.append(all_run_data_2[gen][run_number])\n",
    "    final_data2.append(np.median(median_array))\n",
    "    median_array = []\n"
   ]
  },
  {
   "cell_type": "markdown",
   "id": "4042cede-2ee0-494d-9be8-295f40d92ebe",
   "metadata": {
    "tags": []
   },
   "source": [
    "#### Part 5: Displaying Results\n",
    "\n",
    "Both algorithm's median scores across 200 generations in 10 runs is displayed below, in the form of a table, and plotted in a line graph.\n"
   ]
  },
  {
   "cell_type": "code",
   "execution_count": 9,
   "id": "ee185788-b5e7-4d3d-bfc5-1f7626e2f9e2",
   "metadata": {},
   "outputs": [
    {
     "name": "stdout",
     "output_type": "stream",
     "text": [
      "Median Scores per Generation across 10 Runs\n",
      "+-------------------+------------------------+--------------------------+\n",
      "| Generation Number | Median Scores - GA-MSM | Median Scores - GA-MSM-P |\n",
      "+-------------------+------------------------+--------------------------+\n",
      "|         1         |          0.0           |           0.0            |\n",
      "|         2         |          0.0           |           0.0            |\n",
      "|         3         |          0.0           |           0.0            |\n",
      "|         4         |          0.0           |           0.01           |\n",
      "|         5         |          0.0           |           0.01           |\n",
      "|         6         |          0.01          |           0.01           |\n",
      "|         7         |          0.01          |           0.02           |\n",
      "|         8         |          0.01          |           0.02           |\n",
      "|         9         |          0.02          |           0.02           |\n",
      "|         10        |          0.02          |           0.02           |\n",
      "|         11        |          0.02          |           0.02           |\n",
      "|         12        |          0.02          |           0.03           |\n",
      "|         13        |          0.03          |           0.04           |\n",
      "|         14        |          0.04          |           0.04           |\n",
      "|         15        |          0.02          |           0.04           |\n",
      "|         16        |          0.04          |           0.05           |\n",
      "|         17        |          0.06          |           0.06           |\n",
      "|         18        |          0.04          |           0.08           |\n",
      "|         19        |          0.06          |           0.09           |\n",
      "|         20        |          0.06          |           0.12           |\n",
      "|         21        |          0.08          |           0.12           |\n",
      "|         22        |          0.08          |           0.13           |\n",
      "|         23        |          0.09          |           0.12           |\n",
      "|         24        |          0.12          |           0.14           |\n",
      "|         25        |          0.09          |           0.16           |\n",
      "|         26        |          0.11          |           0.18           |\n",
      "|         27        |          0.12          |           0.18           |\n",
      "|         28        |          0.15          |           0.22           |\n",
      "|         29        |          0.18          |           0.2            |\n",
      "|         30        |          0.19          |           0.3            |\n",
      "|         31        |          0.18          |           0.26           |\n",
      "|         32        |          0.24          |           0.35           |\n",
      "|         33        |          0.28          |           0.41           |\n",
      "|         34        |          0.3           |           0.38           |\n",
      "|         35        |          0.37          |           0.36           |\n",
      "|         36        |          0.24          |           0.42           |\n",
      "|         37        |          0.4           |           0.4            |\n",
      "|         38        |          0.36          |           0.46           |\n",
      "|         39        |          0.45          |           0.51           |\n",
      "|         40        |          0.45          |           0.56           |\n",
      "|         41        |          0.54          |           0.53           |\n",
      "|         42        |          0.41          |           0.62           |\n",
      "|         43        |          0.51          |           0.56           |\n",
      "|         44        |          0.53          |           0.65           |\n",
      "|         45        |          0.55          |           0.68           |\n",
      "|         46        |          0.55          |           0.7            |\n",
      "|         47        |          0.57          |           0.74           |\n",
      "|         48        |          0.69          |           0.74           |\n",
      "|         49        |          0.72          |           0.76           |\n",
      "|         50        |          0.64          |           0.78           |\n",
      "|         51        |          0.64          |           0.82           |\n",
      "|         52        |          0.68          |           0.84           |\n",
      "|         53        |          0.83          |           0.86           |\n",
      "|         54        |          0.75          |           0.84           |\n",
      "|         55        |          0.76          |           0.85           |\n",
      "|         56        |          0.8           |           0.83           |\n",
      "|         57        |          0.84          |           0.82           |\n",
      "|         58        |          0.82          |           0.82           |\n",
      "|         59        |          0.88          |           0.85           |\n",
      "|         60        |          0.86          |           0.88           |\n",
      "|         61        |          0.84          |           0.84           |\n",
      "|         62        |          0.81          |           0.84           |\n",
      "|         63        |          0.82          |           0.82           |\n",
      "|         64        |          0.78          |           0.85           |\n",
      "|         65        |          0.78          |           0.87           |\n",
      "|         66        |          0.8           |           0.9            |\n",
      "|         67        |          0.8           |           0.89           |\n",
      "|         68        |          0.86          |           0.9            |\n",
      "|         69        |          0.88          |           0.91           |\n",
      "|         70        |          0.9           |           0.92           |\n",
      "|         71        |          0.92          |           0.92           |\n",
      "|         72        |          0.92          |           0.92           |\n",
      "|         73        |          0.9           |           0.92           |\n",
      "|         74        |          0.86          |           0.95           |\n",
      "|         75        |          0.93          |           0.96           |\n",
      "|         76        |          0.88          |           0.97           |\n",
      "|         77        |          0.9           |           0.94           |\n",
      "|         78        |          0.83          |           0.95           |\n",
      "|         79        |          0.82          |           0.94           |\n",
      "|         80        |          0.85          |           0.99           |\n",
      "|         81        |          0.9           |           0.98           |\n",
      "|         82        |          0.86          |           0.98           |\n",
      "|         83        |          0.96          |           0.96           |\n",
      "|         84        |          0.9           |           0.96           |\n",
      "|         85        |          0.95          |           0.96           |\n",
      "|         86        |          0.87          |           0.97           |\n",
      "|         87        |          0.9           |           0.96           |\n",
      "|         88        |          0.94          |           0.96           |\n",
      "|         89        |          0.98          |           0.98           |\n",
      "|         90        |          0.96          |           0.98           |\n",
      "|         91        |          0.87          |           0.99           |\n",
      "|         92        |          0.93          |           0.99           |\n",
      "|         93        |          0.86          |           0.96           |\n",
      "|         94        |          0.9           |           0.96           |\n",
      "|         95        |          0.93          |           0.98           |\n",
      "|         96        |          0.88          |           0.94           |\n",
      "|         97        |          0.92          |           0.99           |\n",
      "|         98        |          0.96          |           0.97           |\n",
      "|         99        |          0.96          |           0.94           |\n",
      "|        100        |          0.96          |           0.96           |\n",
      "|        101        |          0.98          |           0.98           |\n",
      "|        102        |          0.94          |           1.0            |\n",
      "|        103        |          0.96          |           0.98           |\n",
      "|        104        |          0.94          |           0.98           |\n",
      "|        105        |          0.93          |           1.0            |\n",
      "|        106        |          0.92          |           0.99           |\n",
      "|        107        |          0.9           |           0.99           |\n",
      "|        108        |          0.92          |           0.98           |\n",
      "|        109        |          0.93          |           0.98           |\n",
      "|        110        |          0.89          |           1.0            |\n",
      "|        111        |          0.86          |           1.0            |\n",
      "|        112        |          0.93          |           0.98           |\n",
      "|        113        |          0.94          |           1.0            |\n",
      "|        114        |          0.91          |           1.0            |\n",
      "|        115        |          0.96          |           1.0            |\n",
      "|        116        |          0.94          |           1.0            |\n",
      "|        117        |          0.98          |           1.0            |\n",
      "|        118        |          0.98          |           1.0            |\n",
      "|        119        |          0.98          |           1.0            |\n",
      "|        120        |          0.98          |           1.0            |\n",
      "|        121        |          0.98          |           1.0            |\n",
      "|        122        |          0.98          |           1.0            |\n",
      "|        123        |          0.92          |           1.0            |\n",
      "|        124        |          0.95          |           1.0            |\n",
      "|        125        |          0.94          |           1.0            |\n",
      "|        126        |          0.95          |           1.0            |\n",
      "|        127        |          0.98          |           1.0            |\n",
      "|        128        |          0.97          |           1.0            |\n",
      "|        129        |          0.98          |           1.0            |\n",
      "|        130        |          0.99          |           1.0            |\n",
      "|        131        |          1.0           |           1.0            |\n",
      "|        132        |          0.98          |           1.0            |\n",
      "|        133        |          0.98          |           1.0            |\n",
      "|        134        |          0.98          |           1.0            |\n",
      "|        135        |          0.96          |           1.0            |\n",
      "|        136        |          0.96          |           0.98           |\n",
      "|        137        |          0.93          |           1.0            |\n",
      "|        138        |          0.92          |           1.0            |\n",
      "|        139        |          0.96          |           1.0            |\n",
      "|        140        |          0.96          |           1.0            |\n",
      "|        141        |          0.94          |           1.0            |\n",
      "|        142        |          0.94          |           1.0            |\n",
      "|        143        |          0.96          |           1.0            |\n",
      "|        144        |          0.99          |           0.98           |\n",
      "|        145        |          0.98          |           0.98           |\n",
      "|        146        |          1.0           |           1.0            |\n",
      "|        147        |          0.94          |           0.99           |\n",
      "|        148        |          0.95          |           1.0            |\n",
      "|        149        |          0.95          |           1.0            |\n",
      "|        150        |          0.99          |           0.99           |\n",
      "|        151        |          0.94          |           1.0            |\n",
      "|        152        |          0.95          |           1.0            |\n",
      "|        153        |          0.97          |           1.0            |\n",
      "|        154        |          0.96          |           1.0            |\n",
      "|        155        |          0.98          |           1.0            |\n",
      "|        156        |          0.96          |           1.0            |\n",
      "|        157        |          0.96          |           1.0            |\n",
      "|        158        |          0.98          |           1.0            |\n",
      "|        159        |          1.0           |           1.0            |\n",
      "|        160        |          1.0           |           1.0            |\n",
      "|        161        |          0.99          |           1.0            |\n",
      "|        162        |          1.0           |           1.0            |\n",
      "|        163        |          1.0           |           1.0            |\n",
      "|        164        |          1.0           |           1.0            |\n",
      "|        165        |          0.99          |           1.0            |\n",
      "|        166        |          1.0           |           1.0            |\n",
      "|        167        |          1.0           |           1.0            |\n",
      "|        168        |          1.0           |           1.0            |\n",
      "|        169        |          1.0           |           1.0            |\n",
      "|        170        |          0.99          |           1.0            |\n",
      "|        171        |          1.0           |           1.0            |\n",
      "|        172        |          1.0           |           1.0            |\n",
      "|        173        |          1.0           |           1.0            |\n",
      "|        174        |          1.0           |           1.0            |\n",
      "|        175        |          1.0           |           1.0            |\n",
      "|        176        |          1.0           |           1.0            |\n",
      "|        177        |          1.0           |           1.0            |\n",
      "|        178        |          1.0           |           1.0            |\n",
      "|        179        |          0.97          |           1.0            |\n",
      "|        180        |          0.99          |           1.0            |\n",
      "|        181        |          1.0           |           1.0            |\n",
      "|        182        |          1.0           |           1.0            |\n",
      "|        183        |          1.0           |           1.0            |\n",
      "|        184        |          0.96          |           1.0            |\n",
      "|        185        |          0.98          |           1.0            |\n",
      "|        186        |          0.98          |           1.0            |\n",
      "|        187        |          0.99          |           1.0            |\n",
      "|        188        |          0.98          |           1.0            |\n",
      "|        189        |          0.99          |           1.0            |\n",
      "|        190        |          0.98          |           1.0            |\n",
      "|        191        |          0.98          |           1.0            |\n",
      "|        192        |          0.98          |           1.0            |\n",
      "|        193        |          0.97          |           1.0            |\n",
      "|        194        |          0.94          |           1.0            |\n",
      "|        195        |          0.96          |           1.0            |\n",
      "|        196        |          0.98          |           1.0            |\n",
      "|        197        |          0.94          |           1.0            |\n",
      "|        198        |          0.97          |           1.0            |\n",
      "|        199        |          0.96          |           1.0            |\n",
      "|        200        |          0.96          |           1.0            |\n",
      "+-------------------+------------------------+--------------------------+\n"
     ]
    }
   ],
   "source": [
    "from prettytable import PrettyTable\n",
    "\n",
    "table = PrettyTable()\n",
    "\n",
    "print(\"Median Scores per Generation across 10 Runs\")\n",
    "\n",
    "table.field_names = [\"Generation Number\", \"Median Scores - GA-MSM\", \"Median Scores - GA-MSM-P\"]\n",
    "\n",
    "for i in range(200):\n",
    "    table.add_row([i + 1, round(final_data1[i],2), round(final_data2[i],2)])\n",
    "\n",
    "print(table)\n"
   ]
  },
  {
   "cell_type": "code",
   "execution_count": 10,
   "id": "c35152d8-2f9c-475b-b717-51269cc2c156",
   "metadata": {},
   "outputs": [
    {
     "data": {
      "image/png": "[encoded data removed]",
      "text/plain": [
       "<Figure size 1080x720 with 1 Axes>"
      ]
     },
     "metadata": {
      "needs_background": "light"
     },
     "output_type": "display_data"
    }
   ],
   "source": [
    "graphResults.display_double_results(number_of_generations, \"Generations\", \"Median Population Fitness\", \"Median Scores of Average Population Fitness across Generations (derived from 10 Runs)\",final_data1 ,final_data2 )"
   ]
  },
  {
   "cell_type": "markdown",
   "id": "2ada908f-315b-4241-a4d2-d21c9b9fd964",
   "metadata": {},
   "source": [
    "#### Part 7: Mann-Whitney U Test\n",
    "\n",
    "- checks if GA-MSM-P performs statistically significantly better than GA-MSM.\n"
   ]
  },
  {
   "cell_type": "code",
   "execution_count": 11,
   "id": "bb0e831b-fc7d-425b-830c-9372772203bd",
   "metadata": {
    "tags": []
   },
   "outputs": [
    {
     "name": "stdout",
     "output_type": "stream",
     "text": [
      "Mann Whitney U Statistical Test Results\n",
      "Test Statistic: 14274.5\n",
      "P-value: 6.290748700362808e-07\n",
      "The difference between the algorithms is statistically significant.\n"
     ]
    }
   ],
   "source": [
    "stat, p_value = mannwhitneyu(final_data1, final_data2)\n",
    "\n",
    "print(\"Mann Whitney U Statistical Test Results\")\n",
    "print(f\"Test Statistic: {stat}\")\n",
    "print(f\"P-value: {p_value}\")\n",
    "\n",
    "alpha = 0.01\n",
    "if p_value < alpha:\n",
    "    print(\"The difference between the algorithms is statistically significant.\")\n",
    "else:\n",
    "    print(\"There is no statistically significant difference between the algorithms.\")\n"
   ]
  }
 ],
 "metadata": {
  "accelerator": "TPU",
  "colab": {
   "gpuType": "V28",
   "provenance": []
  },
  "kernelspec": {
   "display_name": "Python 3 (ipykernel)",
   "language": "python",
   "name": "python3"
  },
  "language_info": {
   "codemirror_mode": {
    "name": "ipython",
    "version": 3
   },
   "file_extension": ".py",
   "mimetype": "text/x-python",
   "name": "python",
   "nbconvert_exporter": "python",
   "pygments_lexer": "ipython3",
   "version": "3.9.13"
  }
 },
 "nbformat": 4,
 "nbformat_minor": 5
}
